{
  "nbformat": 4,
  "nbformat_minor": 0,
  "metadata": {
    "colab": {
      "provenance": [],
      "include_colab_link": true
    },
    "kernelspec": {
      "name": "python3",
      "display_name": "Python 3"
    },
    "language_info": {
      "name": "python"
    }
  },
  "cells": [
    {
      "cell_type": "markdown",
      "metadata": {
        "id": "view-in-github",
        "colab_type": "text"
      },
      "source": [
        "<a href=\"https://colab.research.google.com/github/danielqje/CISC-179-Assignments/blob/main/Functions.ipynb\" target=\"_parent\"><img src=\"https://colab.research.google.com/assets/colab-badge.svg\" alt=\"Open In Colab\"/></a>"
      ]
    },
    {
      "cell_type": "markdown",
      "source": [
        "# Functions in Python\n",
        "Functions are designed to perform the same task repeatedly. For the user, they operate like a black box, with no visibility into how the function is implemented. Users provide compatible arguments to the function, or in some cases, no arguments at all, and the function executes according to the programmer's implementation.\n",
        "\n",
        "## Objective\n",
        "- Understand how arguments are used in functions\n",
        "- Function variables visibility and global variables\n",
        "- Troubleshoot functions\n",
        "\n",
        "## Prerequisite\n",
        "\n",
        "- Lists & tuples\n",
        "- Decision and loops\n",
        "\n",
        "\n",
        "## What do you need to complete this exercise?\n",
        "\n",
        "You can perform this exercise in any Python IDE, including JupyterLab or Google Colab.\n"
      ],
      "metadata": {
        "id": "2ITy4ycVFXBq"
      }
    },
    {
      "cell_type": "markdown",
      "source": [
        "# Create a unit conversion program using functions\n",
        "1a. The user selects kilometers per liter (kpl), and the response will be provided in miles per gallon (mpg). The units must be interchangeable, so the program will ask the user whether to convert from kpl to mpg or vice versa.\n",
        "\n",
        "The program will prompt the user for input and deliver output with the appropriate units.\n",
        "\n",
        "Additionally, the program will include input validation. For example, it will not accept letter inputs and will provide an error message to the user when invalid input is detected.\n",
        "\n",
        "The function will also allow multiple arguments, enabling the user to convert multiple values at once.\n",
        "\n",
        "Research and find out the conversion factor between the units."
      ],
      "metadata": {
        "id": "uQxH0KO0tsDc"
      }
    },
    {
      "cell_type": "code",
      "source": [
        "# Write your code here."
      ],
      "metadata": {
        "id": "rRTflD1C9mjt"
      },
      "execution_count": null,
      "outputs": []
    },
    {
      "cell_type": "markdown",
      "source": [
        "1b. How would you write a function that could take any number of unnamed arguments and print their values out in reverse order?\n"
      ],
      "metadata": {
        "id": "0jkTuRdlA6sk"
      }
    },
    {
      "cell_type": "markdown",
      "source": [
        "1c. What would be the result of changing a list or dictionary that was passed into a function as a parameter value? Which operations would be likely to create changes that would be visible outside the function? What steps might you take to minimize that risk?\n",
        "\n",
        "Explain the above statements with the help of code."
      ],
      "metadata": {
        "id": "sL7k6J70zdzH"
      }
    },
    {
      "cell_type": "code",
      "source": [
        "# Write your code here."
      ],
      "metadata": {
        "id": "8ZIVOfAMQt2Z"
      },
      "execution_count": null,
      "outputs": []
    },
    {
      "cell_type": "markdown",
      "source": [
        "1d. Assuming that ```x = 5```, what will be the value of ```x``` after ```funct_1()``` below executes? After ```funct_2()``` executes?\n"
      ],
      "metadata": {
        "id": "1wWF-wZx2h9s"
      }
    },
    {
      "cell_type": "code",
      "source": [],
      "metadata": {
        "id": "nvd-xB2v3AYh"
      },
      "execution_count": null,
      "outputs": []
    },
    {
      "cell_type": "markdown",
      "source": [
        "# 2. Troubleshooting"
      ],
      "metadata": {
        "id": "tJlIQIYjBPLX"
      }
    },
    {
      "cell_type": "markdown",
      "source": [
        "Correct the following code. There might be more than one correct answers. Explain your reasoning."
      ],
      "metadata": {
        "id": "V8HkUVFy6DlD"
      }
    },
    {
      "cell_type": "code",
      "source": [
        "def my_func(a,b,**c):\n",
        "  print(c)\n",
        "\n",
        "my_func(1,2,3,4,5,6)"
      ],
      "metadata": {
        "id": "bJzMzbxIsAU9"
      },
      "execution_count": null,
      "outputs": []
    },
    {
      "cell_type": "markdown",
      "source": [
        "Using the following code, x should print 100 but it prints 10, why?"
      ],
      "metadata": {
        "id": "sYDRYXa9vbX4"
      }
    },
    {
      "cell_type": "code",
      "source": [
        "# Importing itertools to generate all possible truth values for P and Q\n",
        "import itertools\n",
        "\n",
        "def truth_table():\n",
        "    \"\"\"\n",
        "    Generates a truth table for:\n",
        "    - Logical implication: P → Q (equivalent to ¬P ∨ Q)\n",
        "    - Contrapositive: ¬Q → ¬P (equivalent to Q ∨ ¬P)\n",
        "\n",
        "    The table demonstrates that an implication and its contrapositive are logically equivalent.\n",
        "    \"\"\"\n",
        "\n",
        "    # Print table header\n",
        "    print(\"P | Q | P → Q | ¬Q | ¬P | ¬Q → ¬P\")\n",
        "    print(\"-\" * 29)\n",
        "\n",
        "    # Iterate through all possible truth values for P and Q (True or False)\n",
        "    for P, Q in itertools.product([True, False], repeat=2):\n",
        "        # Compute implication (P → Q), which is equivalent to (¬P ∨ Q)\n",
        "        implication = (not P) or Q\n",
        "\n",
        "        # Compute contrapositive (¬Q → ¬P), which is equivalent to (Q ∨ ¬P)\n",
        "        not_Q = not Q\n",
        "        not_P = not P\n",
        "        contrapositive = not_Q or not_P\n",
        "\n",
        "        # Print the row of the truth table (converting Boolean values to integers 1/0 for clarity)\n",
        "        print(f\"{int(P)} | {int(Q)} |   {int(implication)}   |  {int(not_Q)}  |  {int(not_P)}  |    {int(contrapositive)}\")\n",
        "\n",
        "\n",
        "def proof_by_contradiction():\n",
        "    \"\"\"\n",
        "    Demonstrates proof by contradiction for the statement:\n",
        "\n",
        "    If ¬P leads to a contradiction (⊥), then P must be true.\n",
        "\n",
        "    Steps:\n",
        "    1. Assume ¬P (P is False).\n",
        "    2. Check if this assumption leads to a contradiction.\n",
        "    3. If a contradiction is found, we conclude P must be True.\n",
        "    \"\"\"\n",
        "\n",
        "    # Step 1: Assume ¬P (meaning P is False)\n",
        "    P = False\n",
        "    contradiction_found = False  # Variable to track if a contradiction occurs\n",
        "\n",
        "    print(\"\\nAssuming ¬P (P is False)...\")\n",
        "\n",
        "    # Step 2: Check for a contradiction\n",
        "    if not P:  # Since P is assumed False, ¬P is True\n",
        "        # A contradiction occurs when a statement is both True and False at the same time\n",
        "        contradiction = (P and not P)  # This is logically always False\n",
        "\n",
        "        if contradiction:\n",
        "            contradiction_found = True  # Mark contradiction as found\n",
        "\n",
        "    # Step 3: If a contradiction is found, conclude P must be True\n",
        "    if contradiction_found:\n",
        "        print(\"Contradiction reached! Therefore, P must be True.\")\n",
        "    else:\n",
        "        print(\"No contradiction found (normally, classical logic leads to one).\")\n",
        "\n",
        "\n",
        "# Run both functions to demonstrate the logic simulator\n",
        "truth_table()\n",
        "proof_by_contradiction()"
      ],
      "metadata": {
        "id": "w93b1OeVNYuf",
        "colab": {
          "base_uri": "https://localhost:8080/"
        },
        "outputId": "0e678e05-7beb-48b8-b64d-5d5cacad14f1"
      },
      "execution_count": 8,
      "outputs": [
        {
          "output_type": "stream",
          "name": "stdout",
          "text": [
            "P | Q | P → Q | ¬Q | ¬P | ¬Q → ¬P\n",
            "-----------------------------\n",
            "1 | 1 |   1   |  0  |  0  |    0\n",
            "1 | 0 |   0   |  1  |  0  |    1\n",
            "0 | 1 |   1   |  0  |  1  |    1\n",
            "0 | 0 |   1   |  1  |  1  |    1\n",
            "\n",
            "Assuming ¬P (P is False)...\n",
            "No contradiction found (normally, classical logic leads to one).\n"
          ]
        }
      ]
    },
    {
      "cell_type": "markdown",
      "source": [
        "## Challenges\n",
        "A\n",
        "Please describe the challenges you faced during the exercise."
      ],
      "metadata": {
        "id": "xQzjxKdvvbyo"
      }
    },
    {
      "cell_type": "markdown",
      "source": [
        "Write your challenges here"
      ],
      "metadata": {
        "id": "qfJNpTB5EbY4"
      }
    }
  ]
}