{
  "nbformat": 4,
  "nbformat_minor": 0,
  "metadata": {
    "colab": {
      "provenance": [],
      "include_colab_link": true
    },
    "kernelspec": {
      "name": "python3",
      "display_name": "Python 3"
    },
    "language_info": {
      "name": "python"
    }
  },
  "cells": [
    {
      "cell_type": "markdown",
      "metadata": {
        "id": "view-in-github",
        "colab_type": "text"
      },
      "source": [
        "<a href=\"https://colab.research.google.com/github/danielqje/CISC-179-Assignments/blob/main/Functions.ipynb\" target=\"_parent\"><img src=\"https://colab.research.google.com/assets/colab-badge.svg\" alt=\"Open In Colab\"/></a>"
      ]
    },
    {
      "cell_type": "markdown",
      "source": [
        "# Functions in Python\n",
        "Functions are designed to perform the same task repeatedly. For the user, they operate like a black box, with no visibility into how the function is implemented. Users provide compatible arguments to the function, or in some cases, no arguments at all, and the function executes according to the programmer's implementation.\n",
        "\n",
        "## Objective\n",
        "- Understand how arguments are used in functions\n",
        "- Function variables visibility and global variables\n",
        "- Troubleshoot functions\n",
        "\n",
        "## Prerequisite\n",
        "\n",
        "- Lists & tuples\n",
        "- Decision and loops\n",
        "\n",
        "\n",
        "## What do you need to complete this exercise?\n",
        "\n",
        "You can perform this exercise in any Python IDE, including JupyterLab or Google Colab.\n"
      ],
      "metadata": {
        "id": "2ITy4ycVFXBq"
      }
    },
    {
      "cell_type": "markdown",
      "source": [
        "# Create a unit conversion program using functions\n",
        "1a. The user selects kilometers per liter (kpl), and the response will be provided in miles per gallon (mpg). The units must be interchangeable, so the program will ask the user whether to convert from kpl to mpg or vice versa.\n",
        "\n",
        "The program will prompt the user for input and deliver output with the appropriate units.\n",
        "\n",
        "Additionally, the program will include input validation. For example, it will not accept letter inputs and will provide an error message to the user when invalid input is detected.\n",
        "\n",
        "The function will also allow multiple arguments, enabling the user to convert multiple values at once.\n",
        "\n",
        "Research and find out the conversion factor between the units."
      ],
      "metadata": {
        "id": "uQxH0KO0tsDc"
      }
    },
    {
      "cell_type": "code",
      "source": [
        "def kpl_to_mpg(kpl_values):\n",
        "    \"\"\"Convert a list of kpl valiues to mpg.\"\"\"\n",
        "    return [(kpl * 2.35215, 2) for kpl in kpl_values]\n",
        "def mpg_to_kpl(mpg_values):\n",
        "    \"\"\"Convert a list of mpg values to kpl.\"\"\"\n",
        "    return [round(mpg * 0.425144, 2) for mpg in mpg_values]\n",
        "def get_valid_numbers():\n",
        "      \"\"\"Prompt the user for a list of numbers and validate input.\"\"\"\n",
        "      while True:\n",
        "          user_input = input(\"Enter values sperated by commas: \").strip()\n",
        "          try:\n",
        "              numbers = [float(value) for value in user_input.split(\",\")]\n",
        "              return numbers\n",
        "          except ValueError:\n",
        "              print(\"Invalid input. Please enter only numbers seperated by commas.\")\n",
        "def main():\n",
        "    print(\"Welcome to the Fuel Efficiency Converter!\")\n",
        "    while True:\n",
        "        print(\"\\nChoose conversion type:\")\n",
        "        print(\"1: Convert kpl to mpg\")\n",
        "        print(\"2: Convert mpg to kpl\")\n",
        "        print(\"3: Exit\")\n",
        "        choice = input(\"Enter 1, 2, or 3: \").strip()\n",
        "        if choice == \"1\":\n",
        "            print(\"\\nEnter kilometers per liter (kpl) values to convert:\")\n",
        "            kpl_valuse = get_valid_numbers()\n",
        "            mpg_values = kpl_to_mpg(kpl_values)\n",
        "            print(\"Converted values (mpg):\", mpg_values)\n",
        "        elif choice == \"2\":\n",
        "           print(\"\\nEnter miles per gallon (mpg) values to convert\")\n",
        "           mpg_values = get_valid_numbers()\n",
        "           kpl_values = mpg_to_kpl(mpg_values)\n",
        "           print(\"Converted values (kpl):\", kpl_values)\n",
        "        elif choice == \"3\":\n",
        "           print(\"Exiting the program, Goodbye!\")\n",
        "           break\n",
        "        else:\n",
        "           print(\"Invalid choice. Please enter 1, 2, or 3.\")\n",
        "if __name__ == \"__main__\":\n",
        "    main()"
      ],
      "metadata": {
        "id": "rRTflD1C9mjt",
        "outputId": "95f56bda-826b-4ee0-b611-2d67873a5b77",
        "colab": {
          "base_uri": "https://localhost:8080/"
        }
      },
      "execution_count": null,
      "outputs": [
        {
          "output_type": "stream",
          "name": "stdout",
          "text": [
            "Welcome to the Fuel Efficiency Converter!\n",
            "\n",
            "Choose conversion type:\n",
            "1: Convert kpl to mpg\n",
            "2: Convert mpg to kpl\n",
            "3: Exit\n"
          ]
        }
      ]
    },
    {
      "cell_type": "markdown",
      "source": [
        "1b. How would you write a function that could take any number of unnamed arguments and print their values out in reverse order?\n",
        "\n",
        "Answer: I would use *args, which collects all unnamed arguements into a tuple. When the arguement is collected, we can processtem by reversing the order before printing them. This ensures that the last input appears first and the first input appears last.\n",
        "My code: def reverse_arguements(*args):\n",
        "    for arg in reversed(args):\n",
        "        print(arg)"
      ],
      "metadata": {
        "id": "0jkTuRdlA6sk"
      }
    },
    {
      "cell_type": "markdown",
      "source": [
        "1c. What would be the result of changing a list or dictionary that was passed into a function as a parameter value? Which operations would be likely to create changes that would be visible outside the function? What steps might you take to minimize that risk?\n",
        "\n",
        "Explain the above statements with the help of code."
      ],
      "metadata": {
        "id": "sL7k6J70zdzH"
      }
    },
    {
      "cell_type": "code",
      "source": [
        "def modify_list(_1st):\n",
        "    _1st.append(100)\n",
        "my_list = [1, 2, 3]\n",
        "modify_list(my_list)\n",
        "print(my_list)\n",
        "\n",
        "def safe_modify_list(_1st):\n",
        "    _1st = _1st.copy()\n",
        "    _1st.append(100)\n",
        "    return _1st\n",
        "my_list = [1, 2, 3]\n",
        "new_list = safe_modify_list(my_list)\n",
        "print(my_list)\n",
        "print(new_list)"
      ],
      "metadata": {
        "id": "8ZIVOfAMQt2Z",
        "outputId": "42fdb0c0-534b-4e2c-8e26-b4ab6249705a",
        "colab": {
          "base_uri": "https://localhost:8080/"
        }
      },
      "execution_count": null,
      "outputs": [
        {
          "output_type": "stream",
          "name": "stdout",
          "text": [
            "[1, 2, 3, 100]\n",
            "[1, 2, 3]\n",
            "[1, 2, 3, 100]\n"
          ]
        }
      ]
    },
    {
      "cell_type": "markdown",
      "source": [
        "1d. Assuming that ```x = 5```, what will be the value of ```x``` after ```funct_1()``` below executes? After ```funct_2()``` executes?\n"
      ],
      "metadata": {
        "id": "1wWF-wZx2h9s"
      }
    },
    {
      "cell_type": "code",
      "source": [
        "x = 5\n",
        "def funct_1():\n",
        "    x = 3\n",
        "def funct_2():\n",
        "     global x\n",
        "     x = 2\n",
        "funct_1()\n",
        "print(x)\n",
        "funct_2()\n",
        "print(x)"
      ],
      "metadata": {
        "id": "nvd-xB2v3AYh",
        "outputId": "240d5a35-873d-485a-b696-db37dd5ca25e",
        "colab": {
          "base_uri": "https://localhost:8080/"
        }
      },
      "execution_count": null,
      "outputs": [
        {
          "output_type": "stream",
          "name": "stdout",
          "text": [
            "5\n",
            "2\n"
          ]
        }
      ]
    },
    {
      "cell_type": "markdown",
      "source": [
        "# 2. Troubleshooting"
      ],
      "metadata": {
        "id": "tJlIQIYjBPLX"
      }
    },
    {
      "cell_type": "markdown",
      "source": [
        "Correct the following code. There might be more than one correct answers. Explain your reasoning."
      ],
      "metadata": {
        "id": "V8HkUVFy6DlD"
      }
    },
    {
      "cell_type": "code",
      "source": [
        "def my_func(a,b,*c):\n",
        "  print(c)\n",
        "\n",
        "my_func(1,2,3,4,5,6)\n",
        "\n",
        "print(\"\"\"**c expects keyword arguements like x+10, y=20, but we provided positional arguements, so using *c captures extra positional arguements.\"\"\")"
      ],
      "metadata": {
        "id": "bJzMzbxIsAU9",
        "outputId": "ec946b49-668c-40b1-c98a-2d98d3e31865",
        "colab": {
          "base_uri": "https://localhost:8080/"
        }
      },
      "execution_count": null,
      "outputs": [
        {
          "output_type": "stream",
          "name": "stdout",
          "text": [
            "(3, 4, 5, 6)\n",
            "**c expects keyword arguements like x+10, y=20, but we provided positional arguements, so using *c captures extra positional arguements.\n"
          ]
        }
      ]
    },
    {
      "cell_type": "markdown",
      "source": [
        "Using the following code, x should print 100 but it prints 10, why?"
      ],
      "metadata": {
        "id": "sYDRYXa9vbX4"
      }
    },
    {
      "cell_type": "code",
      "source": [
        "def my_func_global():\n",
        "  x = 100\n",
        "\n",
        "global x\n",
        "x = 10\n",
        "my_func_global()\n",
        "print(x)\n",
        "\n",
        "print(\"\"\"Because the code declares a local x first, so when global x is declared later, it has no effect on the previous assignment.\"\"\" )"
      ],
      "metadata": {
        "id": "w93b1OeVNYuf",
        "colab": {
          "base_uri": "https://localhost:8080/"
        },
        "outputId": "ffb0f673-0730-49ae-a9c4-00c7d7694b16"
      },
      "execution_count": null,
      "outputs": [
        {
          "output_type": "stream",
          "name": "stdout",
          "text": [
            "10\n",
            "Because the code declares a local x first, so when global x is declared later, it has no effect on the previous assignment.\n"
          ]
        }
      ]
    },
    {
      "cell_type": "markdown",
      "source": [
        "## Challenges\n",
        "\n",
        "Please describe the challenges you faced during the exercise."
      ],
      "metadata": {
        "id": "xQzjxKdvvbyo"
      }
    },
    {
      "cell_type": "markdown",
      "source": [
        "A challenge I faced was understanding function parameters and also global vs. local variables. I was forgetting to declare global x before modifying x inside a function resulted in scope errors."
      ],
      "metadata": {
        "id": "qfJNpTB5EbY4"
      }
    }
  ]
}