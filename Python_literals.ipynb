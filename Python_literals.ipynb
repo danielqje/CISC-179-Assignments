{
  "nbformat": 4,
  "nbformat_minor": 0,
  "metadata": {
    "colab": {
      "provenance": [],
      "toc_visible": true,
      "include_colab_link": true
    },
    "kernelspec": {
      "name": "python3",
      "display_name": "Python 3"
    },
    "language_info": {
      "name": "python"
    }
  },
  "cells": [
    {
      "cell_type": "markdown",
      "metadata": {
        "id": "view-in-github",
        "colab_type": "text"
      },
      "source": [
        "<a href=\"https://colab.research.google.com/github/danielqje/CISC-179-Assignments/blob/main/Python_literals.ipynb\" target=\"_parent\"><img src=\"https://colab.research.google.com/assets/colab-badge.svg\" alt=\"Open In Colab\"/></a>"
      ]
    },
    {
      "cell_type": "markdown",
      "source": [
        "# Python literals\n",
        "\n",
        "## Objective\n",
        "1. Understand how Python uses literals.\n",
        "2. Differentiate Integer, Float, Boolean and String data types.\n",
        "3. Understanding how arithmetic operations are performed and recognizing the precedence of operators.\n",
        "\n",
        "## Prerequisite\n",
        "\n",
        "- Python & literals lecture\n",
        "\n",
        "## What do you need to complete this exercise?\n",
        "\n",
        "You can perform this exercise in any Python IDE, including JupyterLab or Google Colab."
      ],
      "metadata": {
        "id": "2ITy4ycVFXBq"
      }
    },
    {
      "cell_type": "markdown",
      "source": [
        "### Literals\n",
        "\n",
        "a) What will the output be without using Python? Aim for 80% accuracy.\n",
        "\n",
        "```print(5 + 2 - 2)```\n",
        "\n",
        "```print(5 / 2)```\n",
        "\n",
        "```print(6 // 2) # // integer division```\n",
        "\n",
        "```print(2. * 3)```\n",
        "\n",
        "```print(2 < 4)```\n",
        "\n",
        "```print(2 >= 2)```\n",
        "\n",
        "```print(\"Hello\"+\"World\")```\n",
        "\n",
        "```print(\"bla\" * 3)```\n",
        "\n",
        "```print(2 * 3 ** 3)```\n",
        "\n",
        "```print(5 * 25 // 13 + 100 / 2 % 13 // 2)```\n",
        "\n",
        "```print(2 * 3 % 5)```\n",
        "\n",
        "```print((2 % -4), (2 % 4), (2 ** 3 ** 2))```\n"
      ],
      "metadata": {
        "id": "uQxH0KO0tsDc"
      }
    },
    {
      "cell_type": "markdown",
      "source": [
        "5\n",
        "2.5\n",
        "3\n",
        "6.0\n",
        "True\n",
        "True\n",
        "HelloWorld\n",
        "blablabla\n",
        "54\n",
        "9.0\n",
        "1\n",
        "-2, 2, 152"
      ],
      "metadata": {
        "id": "uZocghSyZxlG"
      }
    },
    {
      "cell_type": "markdown",
      "source": [
        "b) Please verify using Python to determine if you have achieved at least 80% correct answers."
      ],
      "metadata": {
        "id": "4HjghxnSJgY1"
      }
    },
    {
      "cell_type": "code",
      "source": [
        "print(5+2-2)\n",
        "print(5/2)\n",
        "print(6//2)\n",
        "print(2.*3)\n",
        "print(2<4)\n",
        "print(2>=2)\n",
        "print(\"Hello\"+\"World\")\n",
        "print(\"bla\"*3)\n",
        "print(2*3**3)\n",
        "print(5*25//13+100/2%13//2)\n",
        "print(2*3%5)\n",
        "print((2%-4),(2%4),(2**3**2))"
      ],
      "metadata": {
        "id": "tLQh-A7Kt70H",
        "colab": {
          "base_uri": "https://localhost:8080/"
        },
        "outputId": "3b82c773-39d7-4eb4-a8ad-b48bfca7d144"
      },
      "execution_count": 12,
      "outputs": [
        {
          "output_type": "stream",
          "name": "stdout",
          "text": [
            "5\n",
            "2.5\n",
            "3\n",
            "6.0\n",
            "True\n",
            "True\n",
            "HelloWorld\n",
            "blablabla\n",
            "54\n",
            "14.0\n",
            "1\n",
            "-2 2 512\n"
          ]
        }
      ]
    },
    {
      "cell_type": "markdown",
      "source": [
        "### Data type\n"
      ],
      "metadata": {
        "id": "58GMVBXqKY89"
      }
    },
    {
      "cell_type": "markdown",
      "source": [
        "a) What will the output be without using Python? Aim for 80% accuracy.\n",
        "```type(\"Hello\")```\n",
        "\n",
        "```type(1+\"2\")```\n",
        "\n",
        "```type(1.)```\n",
        "\n",
        "```type('A')```\n",
        "\n",
        "```type(500)```\n",
        "\n",
        "```type(True)```\n",
        "\n",
        "```type(\"False\")```\n"
      ],
      "metadata": {
        "id": "f3_kJZnHKolp"
      }
    },
    {
      "cell_type": "markdown",
      "source": [],
      "metadata": {
        "id": "6kZ5JY1NcVRF"
      }
    },
    {
      "cell_type": "markdown",
      "source": [],
      "metadata": {
        "id": "MM_cLQZAckGU"
      }
    },
    {
      "cell_type": "markdown",
      "source": [
        "error\n",
        "<class 'float>\n",
        "<class 'str'>\n",
        "<class 'int'>\n",
        "<class 'bool'>\n",
        "<class 'str'>"
      ],
      "metadata": {
        "id": "TZ3zlabVMebV"
      }
    },
    {
      "cell_type": "markdown",
      "source": [
        "b) Please verify using Python to determine if you have achieved at least 80% correct answers."
      ],
      "metadata": {
        "id": "LmwF2Rg2Li7M"
      }
    },
    {
      "cell_type": "code",
      "source": [
        "#print(type(1+\"2\"))\n",
        "print(type(1.))\n",
        "print(type('A'))\n",
        "print(type(500))\n",
        "print(type(true))\n",
        "print(type(\"false\"))\n"
      ],
      "metadata": {
        "id": "kLoyOaLLLnSK",
        "colab": {
          "base_uri": "https://localhost:8080/",
          "height": 245
        },
        "outputId": "626a56e7-5d94-4c39-aabd-695a52c1b406"
      },
      "execution_count": 24,
      "outputs": [
        {
          "output_type": "stream",
          "name": "stdout",
          "text": [
            "<class 'float'>\n",
            "<class 'str'>\n",
            "<class 'int'>\n"
          ]
        },
        {
          "output_type": "error",
          "ename": "NameError",
          "evalue": "name 'true' is not defined",
          "traceback": [
            "\u001b[0;31m---------------------------------------------------------------------------\u001b[0m",
            "\u001b[0;31mNameError\u001b[0m                                 Traceback (most recent call last)",
            "\u001b[0;32m<ipython-input-24-22e2e2e7883c>\u001b[0m in \u001b[0;36m<cell line: 0>\u001b[0;34m()\u001b[0m\n\u001b[1;32m      3\u001b[0m \u001b[0mprint\u001b[0m\u001b[0;34m(\u001b[0m\u001b[0mtype\u001b[0m\u001b[0;34m(\u001b[0m\u001b[0;34m'A'\u001b[0m\u001b[0;34m)\u001b[0m\u001b[0;34m)\u001b[0m\u001b[0;34m\u001b[0m\u001b[0;34m\u001b[0m\u001b[0m\n\u001b[1;32m      4\u001b[0m \u001b[0mprint\u001b[0m\u001b[0;34m(\u001b[0m\u001b[0mtype\u001b[0m\u001b[0;34m(\u001b[0m\u001b[0;36m500\u001b[0m\u001b[0;34m)\u001b[0m\u001b[0;34m)\u001b[0m\u001b[0;34m\u001b[0m\u001b[0;34m\u001b[0m\u001b[0m\n\u001b[0;32m----> 5\u001b[0;31m \u001b[0mprint\u001b[0m\u001b[0;34m(\u001b[0m\u001b[0mtype\u001b[0m\u001b[0;34m(\u001b[0m\u001b[0mtrue\u001b[0m\u001b[0;34m)\u001b[0m\u001b[0;34m)\u001b[0m\u001b[0;34m\u001b[0m\u001b[0;34m\u001b[0m\u001b[0m\n\u001b[0m\u001b[1;32m      6\u001b[0m \u001b[0mprint\u001b[0m\u001b[0;34m(\u001b[0m\u001b[0mtype\u001b[0m\u001b[0;34m(\u001b[0m\u001b[0;34m\"false\"\u001b[0m\u001b[0;34m)\u001b[0m\u001b[0;34m)\u001b[0m\u001b[0;34m\u001b[0m\u001b[0;34m\u001b[0m\u001b[0m\n",
            "\u001b[0;31mNameError\u001b[0m: name 'true' is not defined"
          ]
        }
      ]
    },
    {
      "cell_type": "markdown",
      "source": [
        "### Operator precedence"
      ],
      "metadata": {
        "id": "WpQLLdj7Lr4K"
      }
    },
    {
      "cell_type": "markdown",
      "source": [
        "a) Write your arithmetic expression that uses at least one operator from each group. For example ```5 * 25 % 13 + 100 / -2 * 13 // 2 ** 3```"
      ],
      "metadata": {
        "id": "DdtOLAZfLz8X"
      }
    },
    {
      "cell_type": "code",
      "source": [
        "5+3*2-4/2%3//1**2"
      ],
      "metadata": {
        "id": "iJH2iRokL14f",
        "colab": {
          "base_uri": "https://localhost:8080/"
        },
        "outputId": "64f86694-238c-468c-a059-9e9d4b8dcd58"
      },
      "execution_count": 29,
      "outputs": [
        {
          "output_type": "execute_result",
          "data": {
            "text/plain": [
              "9.0"
            ]
          },
          "metadata": {},
          "execution_count": 29
        }
      ]
    },
    {
      "cell_type": "markdown",
      "source": [
        "b) What will the output be without using Python after writing your arithmetic expression? Use the table below for your reference."
      ],
      "metadata": {
        "id": "C8NjhQrfMILL"
      }
    },
    {
      "cell_type": "markdown",
      "source": [
        "| Priority | Operator                                                     | Notes                    |\n",
        "| :------- | :----------------------------------------------------------- | :----------------------- |\n",
        "| 1        | `**`                                                         | Right to left evaluation |\n",
        "| 2        | `+`, `-` (note: unary operators located next to the right of the power operator bind more strongly) | unary                    |\n",
        "| 3        | `*`, `/`, `//`, `%`                                          | Left to right evaluation |\n",
        "| 4        | `+`, `-`                                                     | binary                   |"
      ],
      "metadata": {
        "id": "DqRqRrNsMPRp"
      }
    },
    {
      "cell_type": "markdown",
      "source": [
        "14.0"
      ],
      "metadata": {
        "id": "cKsvL_1JMRVJ"
      }
    },
    {
      "cell_type": "markdown",
      "source": [
        "c) Please verify using Python to determine if you have done it correctly."
      ],
      "metadata": {
        "id": "9micAN0HM2VI"
      }
    },
    {
      "cell_type": "code",
      "source": [
        "print((5+3)*2-4/2%3//1**2)"
      ],
      "metadata": {
        "id": "oyX3LQADM4IY",
        "colab": {
          "base_uri": "https://localhost:8080/"
        },
        "outputId": "e89f6f69-af83-423e-c672-ef1f10733987"
      },
      "execution_count": 28,
      "outputs": [
        {
          "output_type": "stream",
          "name": "stdout",
          "text": [
            "14.0\n"
          ]
        }
      ]
    },
    {
      "cell_type": "markdown",
      "source": [
        "## Challenges\n",
        "\n",
        "Please describe the challenges you faced during the exercise."
      ],
      "metadata": {
        "id": "xQzjxKdvvbyo"
      }
    },
    {
      "cell_type": "markdown",
      "source": [
        "Some challenges faced was evaluating the order of the arithmetic expressiona and also idnetifying the output for each expression. I need more paractice on the integer, float, string, and boolean parts."
      ],
      "metadata": {
        "id": "qfJNpTB5EbY4"
      }
    }
  ]
}