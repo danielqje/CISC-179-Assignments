{
  "nbformat": 4,
  "nbformat_minor": 0,
  "metadata": {
    "colab": {
      "provenance": [],
      "include_colab_link": true
    },
    "kernelspec": {
      "name": "python3",
      "display_name": "Python 3"
    },
    "language_info": {
      "name": "python"
    }
  },
  "cells": [
    {
      "cell_type": "markdown",
      "metadata": {
        "id": "view-in-github",
        "colab_type": "text"
      },
      "source": [
        "<a href=\"https://colab.research.google.com/github/danielqje/CISC-179-Assignments/blob/main/Decision.ipynb\" target=\"_parent\"><img src=\"https://colab.research.google.com/assets/colab-badge.svg\" alt=\"Open In Colab\"/></a>"
      ]
    },
    {
      "cell_type": "markdown",
      "source": [
        "# Decision statements\n",
        "\n",
        "To execute or not to execute—that is the question. I have adapted a Shakespeare quote, originally written as \"To be, or not to be—that is the question.\" Decision statements generally work in a similar way. You evaluate an expression, and if the result is true, you perform a specific action; otherwise, you take a different action.\n",
        "\n",
        "## Objective\n",
        "1. Understand how decision statements are applied in Python\n",
        "2. Apply comparison, logical and bitwise logical operators to evaluate the expression\n",
        "\n",
        "## Prerequisite\n",
        "\n",
        "- Converting binary to decimal and decimal to binary\n",
        "- Decision statements\n",
        "- Input functions\n",
        "- Python literals\n",
        "- Programming variables\n",
        "\n",
        "\n",
        "## What do you need to complete this exercise?\n",
        "\n",
        "You can perform this exercise in any Python IDE, including JupyterLab or Google Colab.\n"
      ],
      "metadata": {
        "id": "2ITy4ycVFXBq"
      }
    },
    {
      "cell_type": "code",
      "source": [],
      "metadata": {
        "id": "XpQN1KpczLkB"
      },
      "execution_count": null,
      "outputs": []
    },
    {
      "cell_type": "markdown",
      "source": [
        "### 1. Comparison operators\n",
        "\n",
        "Decision statements utilize comparison operators, and based on the True or False result, specific statements are executed."
      ],
      "metadata": {
        "id": "uQxH0KO0tsDc"
      }
    },
    {
      "cell_type": "code",
      "source": [
        "4<5\n"
      ],
      "metadata": {
        "id": "8ZIVOfAMQt2Z",
        "colab": {
          "base_uri": "https://localhost:8080/"
        },
        "outputId": "bd0236e2-d97e-4ae0-d02e-90265585fc77"
      },
      "execution_count": null,
      "outputs": [
        {
          "output_type": "execute_result",
          "data": {
            "text/plain": [
              "True"
            ]
          },
          "metadata": {},
          "execution_count": 1
        }
      ]
    },
    {
      "cell_type": "code",
      "source": [
        "22<=22"
      ],
      "metadata": {
        "id": "cF0UyMIqQ8V3",
        "colab": {
          "base_uri": "https://localhost:8080/"
        },
        "outputId": "f2973453-f10c-4712-b353-5fdc9b90b1b9"
      },
      "execution_count": null,
      "outputs": [
        {
          "output_type": "execute_result",
          "data": {
            "text/plain": [
              "True"
            ]
          },
          "metadata": {},
          "execution_count": 3
        }
      ]
    },
    {
      "cell_type": "code",
      "source": [
        "x=10\n",
        "20 < x"
      ],
      "metadata": {
        "id": "fQr5X9N0RceU",
        "colab": {
          "base_uri": "https://localhost:8080/"
        },
        "outputId": "a6365356-ca33-4586-cef1-eba7416ae3ba"
      },
      "execution_count": null,
      "outputs": [
        {
          "output_type": "execute_result",
          "data": {
            "text/plain": [
              "False"
            ]
          },
          "metadata": {},
          "execution_count": 4
        }
      ]
    },
    {
      "cell_type": "code",
      "source": [
        "\"A\" < \"a\""
      ],
      "metadata": {
        "id": "QacofGe4RdZX",
        "colab": {
          "base_uri": "https://localhost:8080/"
        },
        "outputId": "2601a503-f670-4979-e922-bd5f6f709e94"
      },
      "execution_count": null,
      "outputs": [
        {
          "output_type": "execute_result",
          "data": {
            "text/plain": [
              "True"
            ]
          },
          "metadata": {},
          "execution_count": 5
        }
      ]
    },
    {
      "cell_type": "code",
      "source": [
        "\"Monday\" > \"Tuesday\""
      ],
      "metadata": {
        "id": "5M7ksW8xsC3k",
        "colab": {
          "base_uri": "https://localhost:8080/"
        },
        "outputId": "96f41d44-2722-42fd-8835-cb2db861cf6f"
      },
      "execution_count": null,
      "outputs": [
        {
          "output_type": "execute_result",
          "data": {
            "text/plain": [
              "False"
            ]
          },
          "metadata": {},
          "execution_count": 6
        }
      ]
    },
    {
      "cell_type": "markdown",
      "source": [
        "Research and find the ASCII number of all the characters available on the keyboard using Python.\n"
      ],
      "metadata": {
        "id": "oxXvMBKNsX8M"
      }
    },
    {
      "cell_type": "code",
      "source": [
        "for i in range(32, 127):\n",
        "    print(f\"Character: {chr(i)}, ASCII: {i}\")"
      ],
      "metadata": {
        "id": "8Ruh1JAETLsG"
      },
      "execution_count": null,
      "outputs": []
    },
    {
      "cell_type": "markdown",
      "source": [
        "Character: '0', ASCII: 48\n",
        "\n",
        "Character: '1', ASCII: 49\n",
        "\n",
        "Character: '2', ASCII: 50\n",
        "\n",
        "Character: '3', ASCII: 51\n",
        "\n",
        "Character: '4', ASCII: 52\n",
        "\n",
        "Character: '5', ASCII: 53\n",
        "\n",
        "Character: '6', ASCII: 54\n",
        "\n",
        "Character: '7', ASCII: 55\n",
        "\n",
        "Character: '8', ASCII: 56\n",
        "\n",
        "Character: '9', ASCII: 57\n",
        "\n",
        "Character: 'a', ASCII: 97\n",
        "\n",
        "Character: 'b', ASCII: 98\n",
        "\n",
        "Character: 'c', ASCII: 99\n",
        "\n",
        "Character: 'd', ASCII: 100\n",
        "\n",
        "Character: 'e', ASCII: 101\n",
        "\n",
        "Character: 'f', ASCII: 102\n",
        "\n",
        "Character: 'g', ASCII: 103\n",
        "\n",
        "Character: 'h', ASCII: 104\n",
        "\n",
        "Character: 'i', ASCII: 105\n",
        "\n",
        "Character: 'j', ASCII: 106\n",
        "\n",
        "Character: 'k', ASCII: 107\n",
        "\n",
        "Character: 'l', ASCII: 108\n",
        "\n",
        "Character: 'm', ASCII: 109\n",
        "\n",
        "Character: 'n', ASCII: 110\n",
        "\n",
        "Character: 'o', ASCII: 111\n",
        "\n",
        "Character: 'p', ASCII: 112\n",
        "\n",
        "Character: 'q', ASCII: 113\n",
        "\n",
        "Character: 'r', ASCII: 114\n",
        "\n",
        "Character: 's', ASCII: 115\n",
        "\n",
        "Character: 't', ASCII: 116\n",
        "\n",
        "Character: 'u', ASCII: 117\n",
        "\n",
        "Character: 'v', ASCII: 118\n",
        "\n",
        "Character: 'w', ASCII: 119\n",
        "\n",
        "Character: 'x', ASCII: 120\n",
        "\n",
        "Character: 'y', ASCII: 121\n",
        "\n",
        "Character: 'z', ASCII: 122\n",
        "\n",
        "Character: 'A', ASCII: 65\n",
        "\n",
        "Character: 'B', ASCII: 66\n",
        "\n",
        "Character: 'C', ASCII: 67\n",
        "\n",
        "Character: 'D', ASCII: 68\n",
        "\n",
        "Character: 'E', ASCII: 69\n",
        "\n",
        "Character: 'F', ASCII: 70\n",
        "\n",
        "Character: 'G', ASCII: 71\n",
        "\n",
        "Character: 'H', ASCII: 72\n",
        "\n",
        "Character: 'I', ASCII: 73\n",
        "\n",
        "Character: 'J', ASCII: 74\n",
        "\n",
        "Character: 'K', ASCII: 75\n",
        "\n",
        "Character: 'L', ASCII: 76\n",
        "\n",
        "Character: 'M', ASCII: 77\n",
        "\n",
        "Character: 'N', ASCII: 78\n",
        "\n",
        "Character: 'O', ASCII: 79\n",
        "\n",
        "Character: 'P', ASCII: 80\n",
        "\n",
        "Character: 'Q', ASCII: 81\n",
        "\n",
        "Character: 'R', ASCII: 82\n",
        "\n",
        "Character: 'S', ASCII: 83\n",
        "\n",
        "Character: 'T', ASCII: 84\n",
        "\n",
        "Character: 'U', ASCII: 85\n",
        "\n",
        "Character: 'V', ASCII: 86\n",
        "\n",
        "Character: 'W', ASCII: 87\n",
        "\n",
        "Character: 'X', ASCII: 88\n",
        "\n",
        "Character: 'Y', ASCII: 89\n",
        "\n",
        "Character: 'Z', ASCII: 90\n",
        "\n",
        "Character: '!', ASCII: 33\n",
        "\n",
        "Character: '\"', ASCII: 34\n",
        "\n",
        "Character: '#', ASCII: 35\n",
        "\n",
        "Character: '$', ASCII: 36\n",
        "\n",
        "Character: '%', ASCII: 37\n",
        "\n",
        "Character: '&', ASCII: 38\n",
        "\n",
        "Character: \"'\", ASCII: 39\n",
        "\n",
        "Character: '(', ASCII: 40\n",
        "\n",
        "Character: ')', ASCII: 41\n",
        "\n",
        "Character: '*', ASCII: 42\n",
        "\n",
        "Character: '+', ASCII: 43\n",
        "\n",
        "Character: ',', ASCII: 44\n",
        "\n",
        "Character: '-', ASCII: 45\n",
        "\n",
        "Character: '.', ASCII: 46\n",
        "\n",
        "Character: '/', ASCII: 47\n",
        "\n",
        "Character: ':', ASCII: 58\n",
        "\n",
        "Character: ';', ASCII: 59\n",
        "\n",
        "Character: '<', ASCII: 60\n",
        "\n",
        "Character: '=', ASCII: 61\n",
        "\n",
        "Character: '>', ASCII: 62\n",
        "\n",
        "Character: '?', ASCII: 63\n",
        "\n",
        "Character: '@', ASCII: 64\n",
        "\n",
        "Character: '[', ASCII: 91\n",
        "\n",
        "Character: '\\\\', ASCII: 92\n",
        "\n",
        "Character: ']', ASCII: 93\n",
        "\n",
        "Character: '^', ASCII: 94\n",
        "\n",
        "Character: '_', ASCII: 95\n",
        "\n",
        "Character: '`', ASCII: 96\n",
        "\n",
        "Character: '{', ASCII: 123\n",
        "\n",
        "Character: '|', ASCII: 124\n",
        "\n",
        "Character: '}', ASCII: 125\n",
        "\n",
        "Character: '~', ASCII: 126\n",
        "\n",
        "Character: ' ', ASCII: 32\n",
        "\n",
        "Character: '\\t', ASCII: 9\n",
        "\n",
        "\n",
        "Character: '\\n', ASCII: 10\n",
        "\n",
        "Character: '\\r', ASCII: 13\n",
        "\n",
        "Character: '\\x0b', ASCII: 11\n",
        "\n",
        "Character: '\\x0c', ASCII: 12"
      ],
      "metadata": {
        "id": "XbdcQL_QSjN-"
      }
    },
    {
      "cell_type": "markdown",
      "source": [
        "### 2. Logical operators (and, or, not)\n",
        "\n",
        "> **Do not write logical operators in all uppercase like AND, OR, NOT - Syntax Error**\n",
        "\n",
        "**and logical operator:** Both expression's result need to be True to get the True output.\n",
        "If one expression's result is False, the output will be False regardless of the second expression's result. For example,\n"
      ],
      "metadata": {
        "id": "IeiOBf1Tse1c"
      }
    },
    {
      "cell_type": "code",
      "source": [
        "12> 6 and 25 < 146  #print (condition is true because 12 is greter than 6 and 25 is less than 146 )"
      ],
      "metadata": {
        "id": "x3mHyztHSYtd",
        "colab": {
          "base_uri": "https://localhost:8080/"
        },
        "outputId": "51648d1d-c672-464d-d4af-c15bf0ddd35c"
      },
      "execution_count": null,
      "outputs": [
        {
          "output_type": "execute_result",
          "data": {
            "text/plain": [
              "True"
            ]
          },
          "metadata": {},
          "execution_count": 7
        }
      ]
    },
    {
      "cell_type": "code",
      "source": [
        "12 < 6 and 25 < 146  #print (condition is false because 12 is less than 6 and 25 is less than 146 )"
      ],
      "metadata": {
        "id": "3cKTn377ScUS",
        "colab": {
          "base_uri": "https://localhost:8080/"
        },
        "outputId": "ab321b59-d261-4e7f-fa0c-416fa7522b59"
      },
      "execution_count": null,
      "outputs": [
        {
          "output_type": "execute_result",
          "data": {
            "text/plain": [
              "False"
            ]
          },
          "metadata": {},
          "execution_count": 9
        }
      ]
    },
    {
      "cell_type": "markdown",
      "source": [
        "**or logical operator:** Both expression's result need to be False to get the False output.\n",
        "If one expression's result is True, the output will be True regardless of the second expression's result. For example,"
      ],
      "metadata": {
        "id": "1zkqNiyFSgoT"
      }
    },
    {
      "cell_type": "code",
      "source": [
        "1 < 6 or 25 > 146 #print (condition is true because 1 is less than 6 or 25 is greater than 146 )"
      ],
      "metadata": {
        "id": "dy3FnJs5UEaD",
        "colab": {
          "base_uri": "https://localhost:8080/"
        },
        "outputId": "f0406fd1-bd9b-400a-b885-76ef34468036"
      },
      "execution_count": null,
      "outputs": [
        {
          "output_type": "execute_result",
          "data": {
            "text/plain": [
              "True"
            ]
          },
          "metadata": {},
          "execution_count": 10
        }
      ]
    },
    {
      "cell_type": "code",
      "source": [
        "not(1 > 6 and 25 > 146) #print (condition is false because 1 is greater than 6 and 25 is greater than 146 )"
      ],
      "metadata": {
        "id": "wy95gdKhUFpw",
        "colab": {
          "base_uri": "https://localhost:8080/"
        },
        "outputId": "e5527e9f-2a54-49a9-a576-3289ce0bf04f"
      },
      "execution_count": null,
      "outputs": [
        {
          "output_type": "execute_result",
          "data": {
            "text/plain": [
              "True"
            ]
          },
          "metadata": {},
          "execution_count": 11
        }
      ]
    },
    {
      "cell_type": "markdown",
      "source": [
        "**not logical operator:** Inverts the result"
      ],
      "metadata": {
        "id": "MECYeRbPUJX3"
      }
    },
    {
      "cell_type": "markdown",
      "source": [],
      "metadata": {
        "id": "WpnaEQIFq5c1"
      }
    },
    {
      "cell_type": "code",
      "source": [
        "print(not(10 > 4))\n",
        "\n",
        "print(not(not(10 > 4)))"
      ],
      "metadata": {
        "id": "ILhDuME6ULRI",
        "colab": {
          "base_uri": "https://localhost:8080/"
        },
        "outputId": "80888a56-2b57-43e2-e305-90a219644b69"
      },
      "execution_count": null,
      "outputs": [
        {
          "output_type": "stream",
          "name": "stdout",
          "text": [
            "False\n",
            "True\n"
          ]
        }
      ]
    },
    {
      "cell_type": "code",
      "source": [
        "not(10 > 4)\n",
        "#print(condition is false because 10 is greater than 4)"
      ],
      "metadata": {
        "id": "4cKFmjbLUNJL",
        "colab": {
          "base_uri": "https://localhost:8080/"
        },
        "outputId": "3d6a4442-ac93-4092-aa76-163b418fffd6"
      },
      "execution_count": null,
      "outputs": [
        {
          "output_type": "execute_result",
          "data": {
            "text/plain": [
              "False"
            ]
          },
          "metadata": {},
          "execution_count": 6
        }
      ]
    },
    {
      "cell_type": "markdown",
      "source": [
        "### 3. Bitwise logical operators (and, or, not, xor)\n",
        "**Remember bitwise logical operators operates on bits**\n",
        "To differentiate between logical operators and bitwise logical operators, Python uses distinct symbols for each.\n",
        "\n",
        "| Name of the logical operator | Logical operator in Python | Bitwise logical operator in Python |\n",
        "| ---------------------------- | -------------------------- | ---------------------------------- |\n",
        "| and                          | and                        | &                                  |\n",
        "| or                           | or                         | \\|                                 |\n",
        "| not                          | not                        | ~                                  |\n",
        "| xor                          | -                          | ^                                  |\n",
        "|                              |                 \n",
        "\n",
        "#### Example bitwise or"
      ],
      "metadata": {
        "id": "czSzoaq2UTFT"
      }
    },
    {
      "cell_type": "code",
      "source": [
        "x = 0b1110 # 0b represents binary number, decimal 14"
      ],
      "metadata": {
        "id": "vtpI8d0eUbnn"
      },
      "execution_count": null,
      "outputs": []
    },
    {
      "cell_type": "code",
      "source": [
        "y= 0b1100 # decimal 11"
      ],
      "metadata": {
        "id": "8m-iUI9TUfHP"
      },
      "execution_count": null,
      "outputs": []
    },
    {
      "cell_type": "code",
      "source": [
        "x = 0b1110\n",
        "y= 0b1100\n",
        "print(x|y)\n",
        "bin(x|y)"
      ],
      "metadata": {
        "id": "OT80dv26Ufve",
        "colab": {
          "base_uri": "https://localhost:8080/",
          "height": 53
        },
        "outputId": "391f8157-d19a-4b86-d893-e8461f2de7f5"
      },
      "execution_count": null,
      "outputs": [
        {
          "output_type": "stream",
          "name": "stdout",
          "text": [
            "14\n"
          ]
        },
        {
          "output_type": "execute_result",
          "data": {
            "text/plain": [
              "'0b1110'"
            ],
            "application/vnd.google.colaboratory.intrinsic+json": {
              "type": "string"
            }
          },
          "metadata": {},
          "execution_count": 25
        }
      ]
    },
    {
      "cell_type": "code",
      "source": [
        "print(bin(14))\n",
        "print(bin(11))\n",
        "print(bin(14 or 11))"
      ],
      "metadata": {
        "id": "rnNhxiGPUi8S",
        "colab": {
          "base_uri": "https://localhost:8080/"
        },
        "outputId": "11e84212-d291-44ef-e1c5-24f26eece2ff"
      },
      "execution_count": null,
      "outputs": [
        {
          "output_type": "stream",
          "name": "stdout",
          "text": [
            "0b1110\n",
            "0b1011\n",
            "0b1110\n"
          ]
        }
      ]
    },
    {
      "cell_type": "code",
      "source": [
        "\n",
        "# Proof\n",
        "# 1110\n",
        "# 1011\n",
        "# ----\n",
        "# 1111\n"
      ],
      "metadata": {
        "id": "mkvmqn0YU1US"
      },
      "execution_count": null,
      "outputs": []
    },
    {
      "cell_type": "code",
      "source": [
        "x=0b1110 # binary for decimal 11\n",
        "\n",
        "# Perform bitwise OR operation (|), which gives 1111 in binary or 15 in decimal\n",
        "or_result = x | y\n",
        "print(f\"Bitwise OR: {or_result} (decimal), {bin(or_result)} (binary)\")\n",
        "\n",
        "# Perform bitwise AND operation (&), which gives 1010 in binary or 10 in decimal\n",
        "and_result = x & y\n",
        "print(f\"Bitwise AND: {and_result} (decimal), {bin(and_result)} (binary)\")\n",
        "\n",
        "# Perform bitwise XOR operation (^), which gives 0101 in binary or 5 in decimal\n",
        "xor_result = x ^ y\n",
        "print(f\"Bitwise XOR: {xor_result} (decimal), {bin(xor_result)} (binary)\")\n",
        "\n",
        "# Perform bitwise NOT operation (~), which inverts all the bits (2's complement representation)\n",
        "not_result_x = ~x\n",
        "not_result_y = ~y\n",
        "print(f\"Bitwise NOT (~x): {not_result_x} (decimal), {bin(not_result_x)} (binary)\")\n",
        "print(f\"Bitwise NOT (~y): {not_result_y} (decimal), {bin(not_result_y)} (binary)\")"
      ],
      "metadata": {
        "id": "XUyBMOc4U3ce",
        "colab": {
          "base_uri": "https://localhost:8080/",
          "height": 211
        },
        "outputId": "338ccd49-8c79-45ec-e166-741ca44ca51a"
      },
      "execution_count": null,
      "outputs": [
        {
          "output_type": "error",
          "ename": "NameError",
          "evalue": "name 'y' is not defined",
          "traceback": [
            "\u001b[0;31m---------------------------------------------------------------------------\u001b[0m",
            "\u001b[0;31mNameError\u001b[0m                                 Traceback (most recent call last)",
            "\u001b[0;32m<ipython-input-2-3513c27e15aa>\u001b[0m in \u001b[0;36m<cell line: 0>\u001b[0;34m()\u001b[0m\n\u001b[1;32m      2\u001b[0m \u001b[0;34m\u001b[0m\u001b[0m\n\u001b[1;32m      3\u001b[0m \u001b[0;31m# Perform bitwise OR operation (|), which gives 1111 in binary or 15 in decimal\u001b[0m\u001b[0;34m\u001b[0m\u001b[0;34m\u001b[0m\u001b[0m\n\u001b[0;32m----> 4\u001b[0;31m \u001b[0mor_result\u001b[0m \u001b[0;34m=\u001b[0m \u001b[0mx\u001b[0m \u001b[0;34m|\u001b[0m \u001b[0my\u001b[0m\u001b[0;34m\u001b[0m\u001b[0;34m\u001b[0m\u001b[0m\n\u001b[0m\u001b[1;32m      5\u001b[0m \u001b[0mprint\u001b[0m\u001b[0;34m(\u001b[0m\u001b[0;34mf\"Bitwise OR: {or_result} (decimal), {bin(or_result)} (binary)\"\u001b[0m\u001b[0;34m)\u001b[0m\u001b[0;34m\u001b[0m\u001b[0;34m\u001b[0m\u001b[0m\n\u001b[1;32m      6\u001b[0m \u001b[0;34m\u001b[0m\u001b[0m\n",
            "\u001b[0;31mNameError\u001b[0m: name 'y' is not defined"
          ]
        }
      ]
    },
    {
      "cell_type": "markdown",
      "source": [
        "### 4. Decision statements\n",
        "\n",
        "#### Find the largest two integers"
      ],
      "metadata": {
        "id": "F1tjoqe6U8VT"
      }
    },
    {
      "cell_type": "code",
      "source": [
        "# Input two numbers\n",
        "num1 = int(input(\"Enter first number:  \"))\n",
        "num2 = int(input(\"Enter second number:  \"))\n",
        "\n",
        "# Chooses the larger number\n",
        "if (num1 > num2):\n",
        "    largest_Num = num1\n",
        "else:\n",
        "    largest_Num = num2\n",
        "\n",
        "# Print the result\n",
        "print(\"The larger number is:\", largest_Num)\n"
      ],
      "metadata": {
        "id": "5hiwtoXpVDdD"
      },
      "execution_count": null,
      "outputs": []
    },
    {
      "cell_type": "markdown",
      "source": [
        "#### Nested conditional statements"
      ],
      "metadata": {
        "id": "Sd6Yi7mbVQ0T"
      }
    },
    {
      "cell_type": "code",
      "source": [
        "x = 10\n",
        "\n",
        "if x > 5:  # True\n",
        "    if x == 6:  # False\n",
        "        print(\"nested: x == 6\")\n",
        "    elif x == 10:  # True\n",
        "        print(\"nested: x == 10\")\n",
        "    else:\n",
        "        print(\"nested: else\")\n",
        "else:\n",
        "    print(\"else\")"
      ],
      "metadata": {
        "id": "_j-EFKxRVW9L",
        "colab": {
          "base_uri": "https://localhost:8080/"
        },
        "outputId": "dbcdea16-ce61-44a5-ab3c-8022394ce1d6"
      },
      "execution_count": null,
      "outputs": [
        {
          "output_type": "stream",
          "name": "stdout",
          "text": [
            "nested: x == 10\n"
          ]
        }
      ]
    },
    {
      "cell_type": "markdown",
      "source": [
        "### 5. Problem-solving\n",
        "\n",
        "a. Find the largest three integers just using ```if``` statements. Take user inputs and display the result."
      ],
      "metadata": {
        "id": "moP3KtMHVcuH"
      }
    },
    {
      "cell_type": "code",
      "source": [
        "num1 = int(input(\"Enter the first number: \"))\n",
        "num2 = int(input(\"Enter the second number: \"))\n",
        "num3 = int(input(\"Enter the third number: \"))\n",
        "if num1 > num2 >= num3:\n",
        "    num1 = largest_Num\n",
        "if num2 > num1 >= num3:\n",
        "    num2 = largest_Num\n",
        "if num3 > num1 >= num2:\n",
        "    num3 = largest_Num\n",
        "print(\"The largest number is:\", largest_Num)"
      ],
      "metadata": {
        "colab": {
          "base_uri": "https://localhost:8080/"
        },
        "id": "Dz4X2cqIRWFi",
        "outputId": "2eef9919-17c9-43f3-9181-2693d362f513"
      },
      "execution_count": null,
      "outputs": [
        {
          "output_type": "stream",
          "name": "stdout",
          "text": [
            "Enter the first number: 18\n",
            "Enter the second number: 14\n",
            "Enter the third number: 20\n",
            "The largest number is: 20\n"
          ]
        }
      ]
    },
    {
      "cell_type": "markdown",
      "source": [
        "b. Identify multiple methods to determine if a number is even or odd. The user will input an integer, and the output will indicate whether it's \"odd\" or \"even.\" The code should be organized into sections, with comments separating each part. For example"
      ],
      "metadata": {
        "id": "bNRmk6MpVrdX"
      }
    },
    {
      "cell_type": "code",
      "source": [
        " #methood 1 modulo operator\n",
        " num=int (input(\"enter number: \"))\n",
        " if num % 2 == 0:\n",
        "    print( \"even\")\n",
        " else:\n",
        "    print(\"Odd\")"
      ],
      "metadata": {
        "colab": {
          "base_uri": "https://localhost:8080/"
        },
        "id": "xWpjOqcQTp5W",
        "outputId": "80f362c3-7b83-46f3-e87b-78b0f773a738"
      },
      "execution_count": null,
      "outputs": [
        {
          "output_type": "stream",
          "name": "stdout",
          "text": [
            "enter number: 20\n",
            "even\n"
          ]
        }
      ]
    },
    {
      "cell_type": "code",
      "source": [
        "# method 2: Using a ternary operato\n",
        "num2=int (input(\"enter number: \"))\n",
        "\n",
        "result = \"even\" if num2 % 2 == 0 else \"odd\"\n",
        "print(num2, \"is\", result)\n",
        "\n"
      ],
      "metadata": {
        "id": "SaTUGktDV0YO",
        "colab": {
          "base_uri": "https://localhost:8080/"
        },
        "outputId": "caf5c863-5486-45d1-cb1b-74b7c3bce464"
      },
      "execution_count": null,
      "outputs": [
        {
          "output_type": "stream",
          "name": "stdout",
          "text": [
            "enter number: 30\n",
            "30 is even\n"
          ]
        }
      ]
    },
    {
      "cell_type": "markdown",
      "source": [
        "c. Implement the grading scheme for the CISC 179 course. The grading scheme as follows:\n",
        "\n",
        "|Grade|Percent|Description\n",
        "|-|-----|-|\n",
        "|A|>90|Work of genuinely superior quality.|\n",
        "|B|80-89|Passing performance falls approximately in the upper distribution of passing grades.|\n",
        "|C|71-79|Passing performance falls approximately in the center of the distribution of all passing grades.|\n",
        "|D|65-70|Passing performance falls approximately in the lower distribution of passing grades.|\n",
        "|F|<65|Failing performance that does not satisfy the basic requirements of the course and needs to be improved in significant ways.|\n",
        "\n",
        "The user inputs a percentage as an integer, and the output displays the corresponding grade along with a description. The logic uses ```if```, ```elif```, and ```else``` statements, with comments to clarify each part."
      ],
      "metadata": {
        "id": "AZFu1-vKNmH-"
      }
    },
    {
      "cell_type": "code",
      "source": [
        "percentage = int(input(\"Enter your percentage: \"))\n",
        "    # Check if the percentage is greater than 90\n",
        "if percentage > 90:\n",
        " print( \"A\")\n",
        " print(\"Work of genuinely superior quality.\")\n",
        "    # Check if the percentage is between 80 and 89\n",
        "elif 80 <= percentage <= 89:\n",
        "  print(\"B\")\n",
        "  print(\"Passing performance falls approximately in the upper distribution of passing grades.\")\n",
        "    # Check if the percentage is between 71 and 79\n",
        "elif 71 <= percentage <= 79:\n",
        "  print(\"c\")\n",
        "  print(\"Passing performance falls approximately in the center of the distribution of all passing grades.\")\n",
        "    # Check if the percentage is between 65 and 70\n",
        "elif 65 <= percentage <= 70:\n",
        "  print(\"D\")\n",
        "  print(\"Passing performance falls approximately in the lower distribution of passing grades.\")\n",
        "\n",
        "    # If the percentage is less than 65, it's a fail\n",
        "else:\n",
        "  print(\"F\")\n",
        "  print(\"Failing performance that does not satisfy the basic requirements of the course and needs to be improved in significant ways.\")\n",
        "\n",
        "\n"
      ],
      "metadata": {
        "id": "9Sov9YAPNxbW",
        "colab": {
          "base_uri": "https://localhost:8080/"
        },
        "outputId": "2f1e6f1b-0611-4b43-ffc8-3b5b949c2888"
      },
      "execution_count": null,
      "outputs": [
        {
          "output_type": "stream",
          "name": "stdout",
          "text": [
            "Enter your percentage: 80\n",
            "B\n",
            "Passing performance falls approximately in the upper distribution of passing grades.\n"
          ]
        }
      ]
    },
    {
      "cell_type": "markdown",
      "source": [
        "d. Write a code which takes ```and```, ```or```, ```not``` as an user input. Create a truth table by writing your expressions. Display the truth table using ```print()``` function. Research how the truth tables for logical operators are structured."
      ],
      "metadata": {
        "id": "s1QT0aCiN0I-"
      }
    },
    {
      "cell_type": "code",
      "source": [
        "# Get user input for logical operator\n",
        "operator = input(\"Enter logical operator (and, or, not): \")\n",
        "\n",
        "# Print truth table header\n",
        "print(\"P\\tQ\\tResult\")\n",
        "\n",
        "# Generate truth table based on operator\n",
        "if operator == \"and\":\n",
        "    for p in [True, False]:\n",
        "        for q in [True, False]:\n",
        "            result = p and q\n",
        "            print(f\"{p}\\t{q}\\t{result}\")\n",
        "elif operator == \"or\":\n",
        "    for p in [True, False]:\n",
        "        for q in [True, False]:\n",
        "            result = p or q\n",
        "            print(f\"{p}\\t{q}\\t{result}\")\n",
        "elif operator == \"not\":\n",
        "    for p in [True, False]:\n",
        "        result = not p\n",
        "        print(f\"{p}\\t\\t{result}\")\n",
        "else:\n",
        "    print(\"Invalid operator entered.\").\n"
      ],
      "metadata": {
        "id": "c0nmbAaIN6Wy",
        "colab": {
          "base_uri": "https://localhost:8080/"
        },
        "outputId": "351b4d13-e313-42f3-96a5-b3d5f76312b0"
      },
      "execution_count": null,
      "outputs": [
        {
          "output_type": "stream",
          "name": "stdout",
          "text": [
            "Enter logical operator (and, or, not): and\n",
            "P\tQ\tResult\n",
            "True\tTrue\tTrue\n",
            "True\tFalse\tFalse\n",
            "False\tTrue\tFalse\n",
            "False\tFalse\tFalse\n"
          ]
        }
      ]
    },
    {
      "cell_type": "markdown",
      "source": [
        "e. To determine whether an integer is even or odd using only a bitwise AND operator. The user will input an integer. Your code should utilize the bitwise AND operator to differentiate between even and odd numbers. Finally, use the print() function to display the result. Avoid using any modulus or remainder operators."
      ],
      "metadata": {
        "id": "N_T7SitKN8js"
      }
    },
    {
      "cell_type": "code",
      "source": [
        "num = int(input(\"Enter an integer: \"))\n",
        "\n",
        "# Use the bitwise AND operator to check the least significant bit\n",
        "if num & 1:\n",
        "    print(f\"{num} is odd\")\n",
        "else:\n",
        "    print(f\"{num} is even\")"
      ],
      "metadata": {
        "id": "4OWqwOyZN_rh",
        "colab": {
          "base_uri": "https://localhost:8080/"
        },
        "outputId": "f21f1d9a-f653-4ca4-8345-d511c0a45cc0"
      },
      "execution_count": null,
      "outputs": [
        {
          "output_type": "stream",
          "name": "stdout",
          "text": [
            "Enter an integer: 3\n",
            "3 is odd\n"
          ]
        }
      ]
    },
    {
      "cell_type": "markdown",
      "source": [
        "### 6. Code revision\n",
        "Revise the code using **nested** ```if```, ```elif```, and ```else``` statements, and add comments to clarify the logic.\n",
        "```\n",
        "name = input(\"What's your name? \")\n",
        "time = int(input(\"What time is it? \"))\n",
        "\n",
        "if (time < 1200):\n",
        "    print(\"Hi \"+name + \", good morning!\")\n",
        "if (time < 1800):\n",
        "    print(\"Hi \"+name + \", good afternoon!\")\n",
        "if (time > 1800):\n",
        "    print(\"Hi \"+name + \", good evening!\")\n",
        "\n",
        "print(\"Good Bye\")\n",
        "```"
      ],
      "metadata": {
        "id": "zdv5pLLOPBBt"
      }
    },
    {
      "cell_type": "code",
      "source": [
        "name = input(\"What's your name? \")\n",
        "\n",
        "\n",
        "time = int(input(\"What time is it? \"))\n",
        "\n",
        "#Checks if time is earlier then 1200\n",
        "if time < 1200:\n",
        "    print(\"Hi \" + name + \", good morning!\")\n",
        "#Checks if time is before 1800 but after 1200\n",
        "elif time < 1800:\n",
        "    print(\"Hi \" + name + \", good afternoon!\")\n",
        "#Returns when the other 2 options are not true\n",
        "else:\n",
        "\n",
        "    print(\"Hi \" + name + \", good evening!\")\n",
        "\n",
        "print(\"Good Bye \" +name + \"!\")"
      ],
      "metadata": {
        "id": "nwi9yMjyPHok",
        "colab": {
          "base_uri": "https://localhost:8080/"
        },
        "outputId": "4138363b-6ee2-477c-9ffc-562bc11e5e4f"
      },
      "execution_count": null,
      "outputs": [
        {
          "output_type": "stream",
          "name": "stdout",
          "text": [
            "What's your name? Artemis\n",
            "What time is it? 1901\n",
            "Hi Artemis, good evening!\n",
            "Good Bye Artemis!\n"
          ]
        }
      ]
    },
    {
      "cell_type": "markdown",
      "source": [
        "### 7. Output verification\n",
        "What will be the output of the code provided below **without using Python**?\n",
        "```python\n",
        "x = 1\n",
        "y = 1.0\n",
        "z = \"1\"\n",
        "\n",
        "if x == y:\n",
        "    print(\"one\")\n",
        "if y == int(z):\n",
        "    print(\"two\")\n",
        "elif x == y:\n",
        "    print(\"three\")\n",
        "else:\n",
        "    print(\"four\")\n",
        "```\n",
        "Please execute the code provided above in Python to confirm your result.\n",
        "```\n",
        "One\n",
        "Two\n",
        "```"
      ],
      "metadata": {
        "id": "ul0eL03uPt_P"
      }
    },
    {
      "cell_type": "markdown",
      "source": [],
      "metadata": {
        "id": "jM7ug6xeyqCb"
      }
    },
    {
      "cell_type": "code",
      "source": [
        "x = 1\n",
        "y = 1.0\n",
        "z = \"1\"\n",
        "\n",
        "if x == y:\n",
        "    print(\"one\")\n",
        "if y == int(z):\n",
        "    print(\"two\")\n",
        "elif x == y:\n",
        "    print(\"three\")\n",
        "else:\n",
        "    print(\"four\")"
      ],
      "metadata": {
        "id": "Rr4lTEWbP0ow",
        "colab": {
          "base_uri": "https://localhost:8080/"
        },
        "outputId": "c50c4391-b828-49e5-b081-a44ae3d2d6d3"
      },
      "execution_count": null,
      "outputs": [
        {
          "output_type": "stream",
          "name": "stdout",
          "text": [
            "one\n",
            "two\n"
          ]
        }
      ]
    },
    {
      "cell_type": "markdown",
      "source": [
        "## Challenges\n",
        "\n",
        "Please describe the challenges you faced during the exercise."
      ],
      "metadata": {
        "id": "xQzjxKdvvbyo"
      }
    },
    {
      "cell_type": "markdown",
      "source": [
        "to me it was alot of challenege in this lab becuase there was alot of information that I did not get and it was hard to kind understand everything in this lab.\n"
      ],
      "metadata": {
        "id": "qfJNpTB5EbY4"
      }
    }
  ]
}