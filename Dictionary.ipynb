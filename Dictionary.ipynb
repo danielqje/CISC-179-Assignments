{
  "nbformat": 4,
  "nbformat_minor": 0,
  "metadata": {
    "colab": {
      "provenance": [],
      "include_colab_link": true
    },
    "kernelspec": {
      "name": "python3",
      "display_name": "Python 3"
    },
    "language_info": {
      "name": "python"
    }
  },
  "cells": [
    {
      "cell_type": "markdown",
      "metadata": {
        "id": "view-in-github",
        "colab_type": "text"
      },
      "source": [
        "<a href=\"https://colab.research.google.com/github/danielqje/CISC-179-Assignments/blob/main/Dictionary.ipynb\" target=\"_parent\"><img src=\"https://colab.research.google.com/assets/colab-badge.svg\" alt=\"Open In Colab\"/></a>"
      ]
    },
    {
      "cell_type": "markdown",
      "source": [
        "# Dictionary in Python\n",
        "In Python, a dictionary is a built-in data structure that stores data in key-value pairs. It is an unordered, mutable (changeable) collection, where each key must be unique and immutable (e.g., string, number, or tuple), while the value can be of any data type.\n",
        "\n",
        "## Objective\n",
        "- Understand how to create dictionary in Python\n",
        "- Apply various methods on a dictionary\n",
        "- Troubleshoot dictionary\n",
        "\n",
        "## Prerequisite\n",
        "\n",
        "- Lists & tuples\n",
        "- Decision and loops\n",
        "- Input functions\n",
        "\n",
        "\n",
        "## What do you need to complete this exercise?\n",
        "\n",
        "You can perform this exercise in any Python IDE, including JupyterLab or Google Colab.\n"
      ],
      "metadata": {
        "id": "2ITy4ycVFXBq"
      }
    },
    {
      "cell_type": "markdown",
      "source": [
        "# 1. Creating and accessing dictionary\n",
        "\n",
        "1a) Create dictionary of your choice of keys and values. Create dictionary size of 10 elements."
      ],
      "metadata": {
        "id": "uQxH0KO0tsDc"
      }
    },
    {
      "cell_type": "code",
      "source": [
        "my_dict = {\n",
        "    \"name\": \"Phantom\",\n",
        "    \"age\": 100,\n",
        "    \"city\": \"Gotham\",\n",
        "    \"country\": \"USA\",\n",
        "    \"Company\": \"Wayne Enterprises\",\n",
        "    \"hobby\": \"Vigilante\",\n",
        "    \"pet\": \"Bat\",\n",
        "    \"car\": \"Batmobile\",\n",
        "    \"language\": \"Python\"\n",
        "}\n",
        "print(my_dict)"
      ],
      "metadata": {
        "id": "rRTflD1C9mjt",
        "outputId": "cd5fd6fa-9dd8-4e4d-880a-dc02582eb3eb",
        "colab": {
          "base_uri": "https://localhost:8080/"
        }
      },
      "execution_count": 4,
      "outputs": [
        {
          "output_type": "stream",
          "name": "stdout",
          "text": [
            "{'name': 'Phantom', 'age': 100, 'city': 'Gotham', 'country': 'USA', 'Company': 'Wayne Enterprises', 'hobby': 'Vigilante', 'pet': 'Bat', 'car': 'Batmobile', 'language': 'Python'}\n"
          ]
        }
      ]
    },
    {
      "cell_type": "markdown",
      "source": [
        "1b. Take inputs from a user and add them in a dictionary called ```my_user_dict```\n",
        "\n",
        "Here is the example of an user input:\n",
        "\n",
        "SSN: 111-222-3333\n",
        "\n",
        "Name: Steve Hawkins\n",
        "\n",
        "The code continue to take user input and provide an option at the end of the user input; \"Do you want to continue (Y/N)\"\n",
        "\n",
        "Identify how many keys you need to create a dictionary.\n",
        "\n",
        "__Restrictions: Do not use functions and/or exceptions in this exercise__"
      ],
      "metadata": {
        "id": "0jkTuRdlA6sk"
      }
    },
    {
      "cell_type": "code",
      "source": [
        "my_user_dict = {}\n",
        "while True:\n",
        "    key = input(\"Enter key: \")\n",
        "    value = input(\"Enter value: \")\n",
        "    my_user_dict[key] = value\n",
        "    cont = input(\"Do you want to continue (Y/N): \").strip().upper()\n",
        "    if cont != \"Y\":\n",
        "        break\n",
        "print(\"User dictionary:\", my_user_dict)"
      ],
      "metadata": {
        "id": "8ZIVOfAMQt2Z",
        "outputId": "56d3b9cf-876f-4a3c-ec77-e3bf1c276547",
        "colab": {
          "base_uri": "https://localhost:8080/"
        }
      },
      "execution_count": 6,
      "outputs": [
        {
          "output_type": "stream",
          "name": "stdout",
          "text": [
            "Enter key: Batman\n",
            "Enter value: 100\n",
            "Do you want to continue (Y/N): Y\n",
            "Enter key: Wayne\n",
            "Enter value: 100\n",
            "Do you want to continue (Y/N): N\n",
            "User dictionary: {'Batman': '100', 'Wayne': '100'}\n"
          ]
        }
      ]
    },
    {
      "cell_type": "code",
      "source": [
        "# List of tuples where each tuple represents a key-value pair\n",
        "\n",
        "a = [(\"a\", 1), (\"b\", 2), (\"c\", 3)]\n",
        "\n",
        "# Convert the list of tuples into a dictionary\n",
        "\n",
        "res = dict(a)\n",
        "\n",
        "print(res)"
      ],
      "metadata": {
        "id": "cF0UyMIqQ8V3",
        "colab": {
          "base_uri": "https://localhost:8080/"
        },
        "outputId": "e1f9dbb4-003b-4b54-c334-2e258d5441ed"
      },
      "execution_count": 7,
      "outputs": [
        {
          "output_type": "stream",
          "name": "stdout",
          "text": [
            "{'a': 1, 'b': 2, 'c': 3}\n"
          ]
        }
      ]
    },
    {
      "cell_type": "markdown",
      "source": [
        "1c. Based on the given tuple, create a code which checks for valid key & value pairs, and check for key duplication.\n",
        "\n",
        "The code should provide assistance to a user to correct the error. For key duplication, ask user to change the key\n",
        "\n",
        "__Restrictions: Do not use functions and/or exceptions in this exercise__"
      ],
      "metadata": {
        "id": "J6CAWQq0HBv6"
      }
    },
    {
      "cell_type": "code",
      "source": [
        "my_list = [(\"Name\", \"Sarah Connor\"), (\"Date of birth\", \"1 Jan 1980\"), (\"Address\",\"1000 Black Mountain Drive\",92126),(\"Name\", \"Jim Hawkins\")]\n",
        "my_list"
      ],
      "metadata": {
        "colab": {
          "base_uri": "https://localhost:8080/"
        },
        "id": "zhseVMcKL-89",
        "outputId": "0f7b12eb-93a3-4e05-a317-00c2b212a721"
      },
      "execution_count": 8,
      "outputs": [
        {
          "output_type": "execute_result",
          "data": {
            "text/plain": [
              "[('Name', 'Sarah Connor'),\n",
              " ('Date of birth', '1 Jan 1980'),\n",
              " ('Address', '1000 Black Mountain Drive', 92126),\n",
              " ('Name', 'Jim Hawkins')]"
            ]
          },
          "metadata": {},
          "execution_count": 8
        }
      ]
    },
    {
      "cell_type": "code",
      "source": [
        "my_list = [(\"Name\", \"Sarah Connor\"), (\"Date of birth\", \"1 Jan 1980\"),\n",
        "            (\"Address\",\"1000 Black Mountain Drive\"), (\"Name\", \"Jim Hawkins\")]\n",
        "my_dict = {}\n",
        "for key, value in my_list:\n",
        "    if key in my_dict:\n",
        "        new_key = input(f\"key '{key}' already exists. Enter a new key: \")\n",
        "        my_dict[new_key] = value\n",
        "    else:\n",
        "        my_dict[key] = value\n",
        "print(\"Final dictionary:\", my_dict)\n"
      ],
      "metadata": {
        "id": "i8JboXu9AvCV",
        "outputId": "dbc22cdf-8bcb-476a-beab-1a5e94e9a5af",
        "colab": {
          "base_uri": "https://localhost:8080/"
        }
      },
      "execution_count": 10,
      "outputs": [
        {
          "output_type": "stream",
          "name": "stdout",
          "text": [
            "key 'Name' already exists. Enter a new key: Robin\n",
            "Final dictionary: {'Name': 'Sarah Connor', 'Date of birth': '1 Jan 1980', 'Address': '1000 Black Mountain Drive', 'Robin': 'Jim Hawkins'}\n"
          ]
        }
      ]
    },
    {
      "cell_type": "markdown",
      "source": [
        "1d. Convert the following list into a dictionary. Automate the process by using the loop.\n",
        "\n",
        "__Restrictions: Do not use functions and/or exceptions in this exercise__"
      ],
      "metadata": {
        "id": "h7Jc8xH-JEmh"
      }
    },
    {
      "cell_type": "code",
      "source": [
        "my_list = [10012,\"Mango\",43221,\"Gala apple\",14321,\"Banana\",10011,\"Watermelon\"]\n",
        "my_dict = {}\n",
        "for i in range(0, len(my_list), 2):\n",
        "    my_dict[my_list[i]] = my_list[i+1]\n",
        "print(my_dict)"
      ],
      "metadata": {
        "id": "Nfv-ATQUKlW2",
        "outputId": "90f809ba-6622-46de-d67f-708a29022d70",
        "colab": {
          "base_uri": "https://localhost:8080/"
        }
      },
      "execution_count": 11,
      "outputs": [
        {
          "output_type": "stream",
          "name": "stdout",
          "text": [
            "{10012: 'Mango', 43221: 'Gala apple', 14321: 'Banana', 10011: 'Watermelon'}\n"
          ]
        }
      ]
    },
    {
      "cell_type": "markdown",
      "source": [
        "1e. Use the following text and count the number of words using dictionary. Remember The or the counts as 2.\n",
        "\n",
        "**The tiger (Panthera tigris) is a large cat and a member of the genus Panthera native to Asia. It has a powerful, muscular body with a large head and paws, a long tail and orange fur with black, mostly vertical stripes. It is traditionally classified into nine recent subspecies, though some recognise only two subspecies, mainland Asian tigers and the island tigers of the Sunda Islands.**"
      ],
      "metadata": {
        "id": "lLeAeQwmSHWL"
      }
    },
    {
      "cell_type": "markdown",
      "source": [
        "# 2. Troubleshooting"
      ],
      "metadata": {
        "id": "tJlIQIYjBPLX"
      }
    },
    {
      "cell_type": "code",
      "source": [
        "d_orig = {123:\"Coconut\"}\n",
        "d_copy = d_orig\n",
        "print(d_orig)\n",
        "print(d_copy)"
      ],
      "metadata": {
        "id": "70JnWsa6zE0M",
        "colab": {
          "base_uri": "https://localhost:8080/"
        },
        "outputId": "97a3c3a4-155f-47d6-897c-0facf5eaa35a"
      },
      "execution_count": 12,
      "outputs": [
        {
          "output_type": "stream",
          "name": "stdout",
          "text": [
            "{123: 'Coconut'}\n",
            "{123: 'Coconut'}\n"
          ]
        }
      ]
    },
    {
      "cell_type": "markdown",
      "source": [
        "2a. Change the content of ```d_copy``` and make sure the content does not affect the ```d_orig``` dictionary. Verify using the code."
      ],
      "metadata": {
        "id": "eF1Xhaw4M1CG"
      }
    },
    {
      "cell_type": "code",
      "source": [
        "d_orig = {123:\"Coconut\"}\n",
        "d_copy = d_orig.copy()\n",
        "d_copy[123] = \"Mango\"\n",
        "print(\"Original dictionary:\", d_orig)\n",
        "print(\"Copied dictionary:\", d_copy)\n",
        ""
      ],
      "metadata": {
        "id": "w93b1OeVNYuf",
        "outputId": "2e48ae68-6af7-4b9c-b78e-d41ce000e06d",
        "colab": {
          "base_uri": "https://localhost:8080/"
        }
      },
      "execution_count": 14,
      "outputs": [
        {
          "output_type": "stream",
          "name": "stdout",
          "text": [
            "Original dictionary: {123: 'Coconut'}\n",
            "Copied dictionary: {123: 'Mango'}\n"
          ]
        }
      ]
    },
    {
      "cell_type": "markdown",
      "source": [
        "2b. If it changes the content of the original dictionary, then propose how can you solve this problem."
      ],
      "metadata": {
        "id": "O0-uz6MdzJ4a"
      }
    },
    {
      "cell_type": "code",
      "source": [
        "d_copy = d_orig.copy()"
      ],
      "metadata": {
        "id": "xyS0VVapNvEv"
      },
      "execution_count": 16,
      "outputs": []
    },
    {
      "cell_type": "markdown",
      "source": [
        "2c. Write a code that generates the following error and explain why there is such an error.\n",
        "```\n",
        "TypeError: unhashable type: 'list'\n",
        "```"
      ],
      "metadata": {
        "id": "6vXaWJBczn5u"
      }
    },
    {
      "cell_type": "code",
      "source": [
        "invalid_dict = {[\"key_list\"]: \"value\"}"
      ],
      "metadata": {
        "id": "dUoHv95LOCYr",
        "outputId": "eb66b98f-688f-4846-e73f-02340a199e5e",
        "colab": {
          "base_uri": "https://localhost:8080/",
          "height": 158
        }
      },
      "execution_count": 20,
      "outputs": [
        {
          "output_type": "error",
          "ename": "TypeError",
          "evalue": "unhashable type: 'list'",
          "traceback": [
            "\u001b[0;31m---------------------------------------------------------------------------\u001b[0m",
            "\u001b[0;31mTypeError\u001b[0m                                 Traceback (most recent call last)",
            "\u001b[0;32m<ipython-input-20-c9836fa48c37>\u001b[0m in \u001b[0;36m<cell line: 0>\u001b[0;34m()\u001b[0m\n\u001b[0;32m----> 1\u001b[0;31m \u001b[0minvalid_dict\u001b[0m \u001b[0;34m=\u001b[0m \u001b[0;34m{\u001b[0m\u001b[0;34m[\u001b[0m\u001b[0;34m\"key_list\"\u001b[0m\u001b[0;34m]\u001b[0m\u001b[0;34m:\u001b[0m \u001b[0;34m\"value\"\u001b[0m\u001b[0;34m}\u001b[0m\u001b[0;34m\u001b[0m\u001b[0;34m\u001b[0m\u001b[0m\n\u001b[0m\u001b[1;32m      2\u001b[0m \u001b[0mprint\u001b[0m\u001b[0;34m(\u001b[0m\u001b[0;34m\"\"\"A dictionary key must be immutable\"\"\"\u001b[0m\u001b[0;34m)\u001b[0m\u001b[0;34m\u001b[0m\u001b[0;34m\u001b[0m\u001b[0m\n",
            "\u001b[0;31mTypeError\u001b[0m: unhashable type: 'list'"
          ]
        }
      ]
    },
    {
      "cell_type": "markdown",
      "source": [
        "## Challenges\n",
        "\n",
        "Please describe the challenges you faced during the exercise."
      ],
      "metadata": {
        "id": "xQzjxKdvvbyo"
      }
    },
    {
      "cell_type": "markdown",
      "source": [
        "For 2c.) A dictionary key must be immutable and lists are mutable, so they cannot be used as dictionary keys.\n",
        "\n",
        "Some challenges I faced were understanding dictionary copy behavior and word count implementations."
      ],
      "metadata": {
        "id": "qfJNpTB5EbY4"
      }
    }
  ]
}