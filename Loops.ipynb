{
  "nbformat": 4,
  "nbformat_minor": 0,
  "metadata": {
    "colab": {
      "provenance": [],
      "include_colab_link": true
    },
    "kernelspec": {
      "name": "python3",
      "display_name": "Python 3"
    },
    "language_info": {
      "name": "python"
    }
  },
  "cells": [
    {
      "cell_type": "markdown",
      "metadata": {
        "id": "view-in-github",
        "colab_type": "text"
      },
      "source": [
        "<a href=\"https://colab.research.google.com/github/danielqje/CISC-179-Assignments/blob/main/Loops.ipynb\" target=\"_parent\"><img src=\"https://colab.research.google.com/assets/colab-badge.svg\" alt=\"Open In Colab\"/></a>"
      ]
    },
    {
      "cell_type": "markdown",
      "source": [
        "# Loops in Python\n",
        "\n",
        "A sequence of instructions that repeats until a certain condition is met\n",
        "\n",
        "## Objective\n",
        "Understand how loops are applied\n",
        "\n",
        "## Prerequisite\n",
        "\n",
        "- Decision statements\n",
        "- Input functions\n",
        "- Python literals\n",
        "- Programming variables\n",
        "\n",
        "## What do you need to complete this exercise?\n",
        "\n",
        "You can perform this exercise in any Python IDE, including JupyterLab or Google Colab.\n"
      ],
      "metadata": {
        "id": "2ITy4ycVFXBq"
      }
    },
    {
      "cell_type": "markdown",
      "source": [
        "### While loop\n",
        "\n",
        "a. Please write Python code using a while loop to perform the following steps.\n",
        "\n",
        "1. Take any non-negative and non-zero integer number and name it ```n0```\n",
        "2. if the number is even, evaluate a new ```n0``` as ```n0 ÷ 2```;\n",
        "3. Otherwise, if the number is odd, evaluate a new ```n0``` as ```3 * n0 + 1```;\n",
        "4. if ```n0``` is not equal to 1, go to point 2.\n",
        "\n",
        "#### Sample input: ```16```\n",
        "\n",
        "#### Expected output: ###\n",
        "\n",
        "```\n",
        "8\n",
        "4\n",
        "2\n",
        "1\n",
        "steps = 4\n",
        "```"
      ],
      "metadata": {
        "id": "uQxH0KO0tsDc"
      }
    },
    {
      "cell_type": "code",
      "source": [
        "def collatz_sequence (n0):\n",
        "    steps = 0\n",
        "    while n0 != 1:\n",
        "      print(n0)\n",
        "      if n0 % 2 == 0:\n",
        "          n0=n0//2\n",
        "      else:\n",
        "          n0 = 3 * n0 + 1\n",
        "      steps += 1\n",
        "    print (n0)\n",
        "    print(\"steps =\", steps)\n",
        "\n",
        "n0 = int(input(\"Enter a non-negative, non-zero integer:\"))\n",
        "collatz_sequence(n0)"
      ],
      "metadata": {
        "id": "5M7ksW8xsC3k",
        "outputId": "542d6a20-0bf6-4111-e0c8-3e93d598f074",
        "colab": {
          "base_uri": "https://localhost:8080/"
        }
      },
      "execution_count": 21,
      "outputs": [
        {
          "output_type": "stream",
          "name": "stdout",
          "text": [
            "Enter a non-negative, non-zero integer:5\n",
            "5\n",
            "16\n",
            "8\n",
            "4\n",
            "2\n",
            "1\n",
            "steps = 5\n"
          ]
        }
      ]
    },
    {
      "cell_type": "markdown",
      "source": [
        "b. Write code that uses a while loop and runs indefinitely. Modify the same code to resolve the infinite loop issue."
      ],
      "metadata": {
        "id": "S3X6hdy5sI-s"
      }
    },
    {
      "cell_type": "code",
      "source": [
        "n0 = int(input(\"Enter a non-negative, non-zero integer:\"))\n",
        "\n",
        "while True:\n",
        "    print(n0)\n",
        "    if n0== 1:\n",
        "        break\n",
        "    if n0 % 2 ==0:\n",
        "        n0 = n0 // 2\n",
        "    else:\n",
        "        n0 = 3 * n0 + 1"
      ],
      "metadata": {
        "id": "cs0pk1_qsNY0",
        "outputId": "85a70d41-ec30-41dc-a40b-8057db21cc32",
        "colab": {
          "base_uri": "https://localhost:8080/"
        }
      },
      "execution_count": null,
      "outputs": [
        {
          "output_type": "stream",
          "name": "stdout",
          "text": [
            "Enter a non-negative, non-zero integer:5\n",
            "5\n",
            "16\n",
            "8\n",
            "4\n",
            "2\n",
            "1\n"
          ]
        }
      ]
    },
    {
      "cell_type": "markdown",
      "source": [
        "c. Write a program that takes two integers as input and asks the user to choose an arithmetic operation to perform with those numbers. At the end of the program, prompt the user with the question, \"Do you want to continue?\" If the user selects \"Y\" or \"y,\" the program should restart; otherwise, it should exit and display the message, \"Have a good day.\""
      ],
      "metadata": {
        "id": "oxXvMBKNsX8M"
      }
    },
    {
      "cell_type": "code",
      "source": [
        "def calculator():\n",
        "    while True:\n",
        "\n",
        "        num1 = int(input(\"Enter the first integer: \"))\n",
        "        num2 = int(input(\"Enter the second integer: \"))\n",
        "\n",
        "        operation = input(\"Choose an operation (+, -, *, /): \")\n",
        "\n",
        "        if operation == '+':\n",
        "            result = num1 + num2\n",
        "        elif operation == '-':\n",
        "            result = num1 - num2\n",
        "        elif operation == '*':\n",
        "            result = num1 * num2\n",
        "        elif operation == '/':\n",
        "            if num2 != 0:\n",
        "                result = num1 / num2\n",
        "            else:\n",
        "                print(\"Error: Division by zero is not allowed.\")\n",
        "                continue\n",
        "            result = num1 / num2\n",
        "        else:\n",
        "            print(\"Invalid operation. Try again.\")\n",
        "            continue\n",
        "\n",
        "        print(\"Result:\", result)\n",
        "\n",
        "        choice = input(\"Do you want to continue? (Y/N): \")\n",
        "        if choice.lower() != 'y':\n",
        "            print(\"Have a good day.\")\n",
        "            break\n",
        "\n",
        "calculator()"
      ],
      "metadata": {
        "id": "w9Ai1I_JsYw9",
        "outputId": "b13773f0-4984-40bf-e81e-97295ad1cdb0",
        "colab": {
          "base_uri": "https://localhost:8080/"
        }
      },
      "execution_count": 22,
      "outputs": [
        {
          "output_type": "stream",
          "name": "stdout",
          "text": [
            "Enter the first integer: 10\n",
            "Enter the second integer: 9\n",
            "Choose an operation (+, -, *, /): +\n",
            "Result: 19\n",
            "Do you want to continue? (Y/N): Y\n",
            "Enter the first integer: 5\n",
            "Enter the second integer: 4\n",
            "Choose an operation (+, -, *, /): -\n",
            "Result: 1\n",
            "Do you want to continue? (Y/N): N\n",
            "Have a good day.\n"
          ]
        }
      ]
    },
    {
      "cell_type": "markdown",
      "source": [
        "### 2. For loops\n",
        "\n",
        "a. Write a code that counts the total number of characters in a text and also counts each character individually. For example, consider the sentence \"To be, or not to be, that is the question.\" The code should determine the total number of letters and how many times each letter appears, including specific counts for the letters 't' and 'o', etc. Ignore the upper and lower cases letters, and any punctuations symbols. Use only for loop, while loop, break and continue statements where necessary.\n",
        "\n",
        "#### Sample input: ```To be, or not to be, that is the question```\n",
        "\n",
        "#### Expected output: ###\n",
        "\n",
        "```\n",
        "Total number of alphabets: 30\n",
        "Total number of distinct alphabets are:\n",
        "T = 7\n",
        "o = 4\n",
        "```\n",
        "> **Note:** The expected output above is incomplete.\n"
      ],
      "metadata": {
        "id": "IeiOBf1Tse1c"
      }
    },
    {
      "cell_type": "code",
      "source": [
        "def count_alaphabets(text):\n",
        "    text + text.lower()\n",
        "    alphabet_count = {}\n",
        "    total_alphabets = 0\n",
        "\n",
        "    for char in text:\n",
        "        if char.isalpha():\n",
        "            total_alphabets += 1\n",
        "\n",
        "            if char in alphabet_count:\n",
        "                alphabet_count[char] += 1\n",
        "\n",
        "            else:\n",
        "                alphabet_count[char] = 1\n",
        "    print(\"Total number of alphabets:\", total_alphabets)\n",
        "    print(\"Total number of distinct alphabets are:\")\n",
        "\n",
        "    for letter, count in alphabet_count.items():\n",
        "        print(f\"{letter} = {count}\")\n",
        "\n",
        "text = \"To be, or not to be, that is the question.\"\n",
        "count_alaphabets(text)"
      ],
      "metadata": {
        "id": "FprfxHfksh2-",
        "outputId": "e7c9c07b-5a1a-4fdf-c16a-2f30ca26029c",
        "colab": {
          "base_uri": "https://localhost:8080/"
        }
      },
      "execution_count": 26,
      "outputs": [
        {
          "output_type": "stream",
          "name": "stdout",
          "text": [
            "Total number of alphabets: 30\n",
            "Total number of distinct alphabets are:\n",
            "T = 1\n",
            "o = 5\n",
            "b = 2\n",
            "e = 4\n",
            "r = 1\n",
            "n = 2\n",
            "t = 6\n",
            "h = 2\n",
            "a = 1\n",
            "i = 2\n",
            "s = 2\n",
            "q = 1\n",
            "u = 1\n"
          ]
        }
      ]
    },
    {
      "cell_type": "markdown",
      "source": [
        "## Challenges\n",
        "\n",
        "Please describe the challenges you faced during the exercise."
      ],
      "metadata": {
        "id": "xQzjxKdvvbyo"
      }
    },
    {
      "cell_type": "markdown",
      "source": [
        "A challenge I faced was that I kept facing indentation error and also using else, elif, and if were a little confusing at first."
      ],
      "metadata": {
        "id": "qfJNpTB5EbY4"
      }
    }
  ]
}