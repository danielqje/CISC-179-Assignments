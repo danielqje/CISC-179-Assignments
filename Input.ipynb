{
  "nbformat": 4,
  "nbformat_minor": 0,
  "metadata": {
    "colab": {
      "provenance": [],
      "include_colab_link": true
    },
    "kernelspec": {
      "name": "python3",
      "display_name": "Python 3"
    },
    "language_info": {
      "name": "python"
    }
  },
  "cells": [
    {
      "cell_type": "markdown",
      "metadata": {
        "id": "view-in-github",
        "colab_type": "text"
      },
      "source": [
        "<a href=\"https://colab.research.google.com/github/danielqje/CISC-179-Assignments/blob/main/Input.ipynb\" target=\"_parent\"><img src=\"https://colab.research.google.com/assets/colab-badge.svg\" alt=\"Open In Colab\"/></a>"
      ]
    },
    {
      "cell_type": "markdown",
      "source": [
        "# User input in Python\n",
        "\n",
        "## Objective\n",
        "1. Understand how ```input()``` function is applied.\n",
        "\n",
        "## Prerequisite\n",
        "\n",
        "- Python literals lecture & lab\n",
        "- Programming variables lecture\n",
        "\n",
        "## What do you need to complete this exercise?\n",
        "\n",
        "You can perform this exercise in any Python IDE, including JupyterLab or Google Colab.\n"
      ],
      "metadata": {
        "id": "2ITy4ycVFXBq"
      }
    },
    {
      "cell_type": "markdown",
      "source": [
        "### User input\n",
        "\n",
        "a. Write a program that prompts the user to enter the weight of a person in kilograms and outputs the equivalent weight in pounds. (Note that 1 kilogram = 2.2 pounds)."
      ],
      "metadata": {
        "id": "uQxH0KO0tsDc"
      }
    },
    {
      "cell_type": "code",
      "source": [
        "weight_kg= float(input(68.0388))\n",
        "weight_lbs = weight_kg * 2.2\n",
        "print(f\"your weight in pounds is: {weight_lbs:.2f} lbs\")\n"
      ],
      "metadata": {
        "id": "N3wgQQ672rWR"
      },
      "execution_count": null,
      "outputs": []
    },
    {
      "cell_type": "markdown",
      "source": [
        "b. Interest on a credit card's unpaid balance is calculated using the average daily balance. Suppose that $netBalance$ is the balance shown in the bill, $payment$ is the payment made, $d1$ is the number of days in the billing cycle, and $d2$ is the number of days payment is made before biling cycle. Then, the average daily balance is: $$averageDailybalance = (netBalance \\times d1 - payment \\times d2)/d1$$.\n",
        "\n",
        "If the interest rate per month is, say, 0.0152, then the interest on the unpaid balance is: $interest = averageDailyBalance \\times 0.0152$\n",
        "\n",
        "Write a program that accepts as input $netBalance$, $payment$, $d1$, $d2$, and $interest rate per month$. The program outputs the interest."
      ],
      "metadata": {
        "id": "2ou6B-5b2ws3"
      }
    },
    {
      "cell_type": "code",
      "source": [
        "netBalance = float(input(\"enter net balance: \"))\n",
        "payment = float(input(\"enter payment amount\"))\n",
        "d1 = int(input(\"enter number of days in billing cycle (d1): \"))\n",
        "interestRatePerMonth = float(input(\"enter interest rate per month (e.g., 0.0152 for 1.52%): \"))\n",
        "\n",
        "average DailyBalance = ((netBalance * d1) - (payment * d2)) / d1\n",
        "\n",
        "print(f\"The interest on the unpaid balance is: ${interest: .2f}\")"
      ],
      "metadata": {
        "id": "pqP70bD02x9h"
      },
      "execution_count": null,
      "outputs": []
    },
    {
      "cell_type": "markdown",
      "source": [
        "c. Two cars A and B leave an intersection at the same time. Car A travels west at an average speed of x miles per hour and car B travels south at an average speed of y miles per hour. Write a program that prompts the user to enter the average speed of both the cars and the elapsed time (in hours and minutes) and outputs the (shortest) distance between the cars."
      ],
      "metadata": {
        "id": "gAxw_xVk25qO"
      }
    },
    {
      "cell_type": "code",
      "source": [
        "import math\n",
        "\n",
        "x = float(input(\"enter the speed of Car A (miles per hour): \"))\n",
        "y = float(input(\"enter the speed of Car B (miles per hour): \"))\n",
        "\n",
        "time = hours + (minutes / 60)\n",
        "\n",
        "distanceA = x * time\n",
        "distanceB = y * time\n",
        "\n",
        "distance = math.sqrt(distnaceA882 + distanceB**2)\n",
        "\n",
        "print(f\"The shortest distnace between the two cars is: {distance: .2f} miles\")\n",
        "\n"
      ],
      "metadata": {
        "id": "nMPuZXsH26nW"
      },
      "execution_count": null,
      "outputs": []
    },
    {
      "cell_type": "markdown",
      "source": [
        "### Troubleshooting\n",
        "\n",
        "Please troubleshoot the following issue **without using Python**, and explain your reasoning.\n",
        "\n",
        "a. ```hello = \"hello\"```  \n",
        "b. ```_var = 100```  \n",
        "c. ```!var_1 = 200```  \n",
        "d. ```print = \"print me\"```  \n",
        "e. ```False = 0```  "
      ],
      "metadata": {
        "id": "V0l5fqK-NJ2n"
      }
    },
    {
      "cell_type": "markdown",
      "source": [
        "a.) and b.) are valid\n",
        "c.) variables can't start with an underscore troubleshoot: var = 100\n",
        "d.) Valid but not ideal, stick with () Troubleshoot print(\"print me\")\n",
        "e.) false is a boolean literal therefore that statement is invalid. Troubleshoot: x = 0\n",
        "              is_false=false"
      ],
      "metadata": {
        "id": "Cz8CqobPNO8n"
      }
    },
    {
      "cell_type": "markdown",
      "source": [
        "## Challenges\n",
        "\n",
        "Please describe the challenges you faced during the exercise."
      ],
      "metadata": {
        "id": "xQzjxKdvvbyo"
      }
    },
    {
      "cell_type": "markdown",
      "source": [
        "Some challenges I faced were figureing out a program and being mathematically correct. I also struggled with using literals for math."
      ],
      "metadata": {
        "id": "qfJNpTB5EbY4"
      }
    }
  ]
}