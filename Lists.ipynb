{
  "nbformat": 4,
  "nbformat_minor": 0,
  "metadata": {
    "colab": {
      "provenance": [],
      "include_colab_link": true
    },
    "kernelspec": {
      "name": "python3",
      "display_name": "Python 3"
    },
    "language_info": {
      "name": "python"
    }
  },
  "cells": [
    {
      "cell_type": "markdown",
      "metadata": {
        "id": "view-in-github",
        "colab_type": "text"
      },
      "source": [
        "<a href=\"https://colab.research.google.com/github/danielqje/CISC-179-Assignments/blob/main/Lists.ipynb\" target=\"_parent\"><img src=\"https://colab.research.google.com/assets/colab-badge.svg\" alt=\"Open In Colab\"/></a>"
      ]
    },
    {
      "cell_type": "markdown",
      "source": [
        "# Lists in Python\n",
        "A list is an ordered collection of elements, and each element can be of any data type, such as numbers, strings, Booleans, or even other lists. In Python, lists are mutable, meaning their contents can be changed. Lists are particularly useful when you want to handle a group of related values.\n",
        "\n",
        "## Objective\n",
        "- Comprehend the application of lists\n",
        "- Understand how a list uses memory\n",
        "- Apply various operations on a list\n",
        "\n",
        "## Prerequisite\n",
        "\n",
        "- Decision statements\n",
        "- Input functions\n",
        "- Python literals\n",
        "- Programming variables\n",
        "\n",
        "\n",
        "## What do you need to complete this exercise?\n",
        "\n",
        "You can perform this exercise in any Python IDE, including JupyterLab or Google Colab.\n"
      ],
      "metadata": {
        "id": "2ITy4ycVFXBq"
      }
    },
    {
      "cell_type": "markdown",
      "source": [
        "a) a. Using a range function, generate a list of 100 integers and assign the list to ```my_list```. Verify that the variable ```my_list``` data type is list. Use your favorite four methods and apply on the list. You can find the methods on [Python Docs](https://docs.python.org/3/tutorial/datastructures.html)"
      ],
      "metadata": {
        "id": "uQxH0KO0tsDc"
      }
    },
    {
      "cell_type": "code",
      "source": [
        "my_list = list(range(100))\n",
        "print(type(my_list))\n",
        "my_list.append(100)\n",
        "my_list.remove(50)\n",
        "my_list.reverse()\n",
        "my_list.sort()\n",
        "print(my_list)"
      ],
      "metadata": {
        "id": "rRTflD1C9mjt",
        "outputId": "bba04d4e-8708-4929-8af5-a7a7884d13c4",
        "colab": {
          "base_uri": "https://localhost:8080/"
        }
      },
      "execution_count": 2,
      "outputs": [
        {
          "output_type": "stream",
          "name": "stdout",
          "text": [
            "<class 'list'>\n",
            "[0, 1, 2, 3, 4, 5, 6, 7, 8, 9, 10, 11, 12, 13, 14, 15, 16, 17, 18, 19, 20, 21, 22, 23, 24, 25, 26, 27, 28, 29, 30, 31, 32, 33, 34, 35, 36, 37, 38, 39, 40, 41, 42, 43, 44, 45, 46, 47, 48, 49, 51, 52, 53, 54, 55, 56, 57, 58, 59, 60, 61, 62, 63, 64, 65, 66, 67, 68, 69, 70, 71, 72, 73, 74, 75, 76, 77, 78, 79, 80, 81, 82, 83, 84, 85, 86, 87, 88, 89, 90, 91, 92, 93, 94, 95, 96, 97, 98, 99, 100]\n"
          ]
        }
      ]
    },
    {
      "cell_type": "markdown",
      "source": [
        "b. Suppose that you have a list of 10 items long. How might you move the last three items from the end of the list to the beginning, keeping them in the same order?"
      ],
      "metadata": {
        "id": "0jkTuRdlA6sk"
      }
    },
    {
      "cell_type": "code",
      "source": [
        "my_list = list(range(1, 11))\n",
        "my_list = my_list[-3:] + my_list[:-3]\n",
        "print(my_list)"
      ],
      "metadata": {
        "id": "8ZIVOfAMQt2Z",
        "outputId": "dc38009d-bf5d-478c-b557-1985a05221db",
        "colab": {
          "base_uri": "https://localhost:8080/"
        }
      },
      "execution_count": 3,
      "outputs": [
        {
          "output_type": "stream",
          "name": "stdout",
          "text": [
            "[8, 9, 10, 1, 2, 3, 4, 5, 6, 7]\n"
          ]
        }
      ]
    },
    {
      "cell_type": "markdown",
      "source": [
        "c. What would be the result of ```len([[1,2]] * 3)```? Try to do it without coding and then verify using Python."
      ],
      "metadata": {
        "id": "Wv1LOaouA_Gq"
      }
    },
    {
      "cell_type": "code",
      "source": [
        "3"
      ],
      "metadata": {
        "id": "cF0UyMIqQ8V3",
        "outputId": "258d6545-ea42-4062-eb13-ea5a35005d2a",
        "colab": {
          "base_uri": "https://localhost:8080/"
        }
      },
      "execution_count": 9,
      "outputs": [
        {
          "output_type": "execute_result",
          "data": {
            "text/plain": [
              "3"
            ]
          },
          "metadata": {},
          "execution_count": 9
        }
      ]
    },
    {
      "cell_type": "code",
      "source": [
        "my_list = [[1,2]] * 3\n",
        "print(len(my_list))"
      ],
      "metadata": {
        "id": "zcF0JCEB4zeF",
        "outputId": "7b167eb6-735b-4a75-db39-605f57e69d60",
        "colab": {
          "base_uri": "https://localhost:8080/"
        }
      },
      "execution_count": 8,
      "outputs": [
        {
          "output_type": "stream",
          "name": "stdout",
          "text": [
            "3\n"
          ]
        }
      ]
    },
    {
      "cell_type": "markdown",
      "source": [
        "d. Create a list ```my-list-ten``` of 10 items that includes some duplicate entries. Then, generate a second list ```my-list-ten-mem``` that contains the memory addresses of the items from the list ```my-list-ten```. Use Python to research and identify the unique and duplicate memory addresses."
      ],
      "metadata": {
        "id": "0IWZsl7LBGvD"
      }
    },
    {
      "cell_type": "code",
      "source": [
        "my_list_ten = [1, 2, 3, 4, 4, 5, 6, 1, 7, 3]\n",
        "my_list_ten_mem = [id(item) for item in my_list_ten]\n",
        "print(\"Memory adresses:\", my_list_ten_mem)\n",
        "unique_mem = set()\n",
        "duplicates = set ()\n",
        "for addr in my_list_ten_mem:\n",
        "  if addr in unique_mem:\n",
        "    duplicates.add(addr)\n",
        "  else:\n",
        "    unique_mem.add(addr)\n",
        "print(\"Unique memory adresses:\", unique_mem)\n",
        "print(\"Duplicate memory adresses:\", duplicates)"
      ],
      "metadata": {
        "id": "S5kO371-Q_NL",
        "outputId": "28141aaa-69b4-4fa8-f46a-c2f577bb7526",
        "colab": {
          "base_uri": "https://localhost:8080/"
        }
      },
      "execution_count": 15,
      "outputs": [
        {
          "output_type": "stream",
          "name": "stdout",
          "text": [
            "Memory adresses: [10750856, 10750888, 10750920, 10750952, 10750952, 10750984, 10751016, 10750856, 10751048, 10750920]\n",
            "Unique memory adresses: {10750856, 10750984, 10750952, 10750888, 10750920, 10751016, 10751048}\n",
            "Duplicate memory adresses: {10750952, 10750856, 10750920}\n"
          ]
        }
      ]
    },
    {
      "cell_type": "markdown",
      "source": [
        "e. Delete the list ```my-list-ten``` created in the above step."
      ],
      "metadata": {
        "id": "tJlIQIYjBPLX"
      }
    },
    {
      "cell_type": "code",
      "source": [
        "my_list_ten = [1, 2, 3, 4, 4, 5, 6, 1, 7, 3]\n",
        "del my_list_ten\n",
        "try:\n",
        "  print(my_list_ten)\n",
        "except NameError:\n",
        "    print(\"my_list_ten has been deleted.\")"
      ],
      "metadata": {
        "id": "fQr5X9N0RceU",
        "outputId": "c9a0afce-9142-4d9d-8a89-0bcb68a4a874",
        "colab": {
          "base_uri": "https://localhost:8080/"
        }
      },
      "execution_count": 25,
      "outputs": [
        {
          "output_type": "stream",
          "name": "stdout",
          "text": [
            "my_list_ten has been deleted.\n"
          ]
        }
      ]
    },
    {
      "cell_type": "markdown",
      "source": [
        "f. Create a new list ```my-new-list``` of the same 10 items used in ```my-list-ten```. Generate memory addresses of the items in ```my-new-list``` and compare them with the memory addresses in ```my-list-ten-mem```. Discuss what do you observe."
      ],
      "metadata": {
        "id": "jflVX2GHBT3-"
      }
    },
    {
      "cell_type": "code",
      "source": [
        "my_new_list = [1, 2, 3, 4, 5, 6, 1, 7, 3]\n",
        "my_new_list_mem = [id(item) for item in my_new_list]\n",
        "print(\"Memory adresses of my_new_list:\", my_new_list_mem)\n",
        "if 'my_list_ten_mem' in locals():\n",
        "  print(\"Comparison:\")\n",
        "  for i, (old, new) in enumerate(zip(my_list_ten_mem, my_new_list_mem)):\n",
        "    print(f\"Item {i}: Old Addr: {old}, New Addr: {new}, Same? {old == new}\")\n",
        "else:\n",
        "  print(\"my_list_ten_mem is not available for comparisson.\")"
      ],
      "metadata": {
        "id": "QacofGe4RdZX",
        "outputId": "9bc9d3ba-bf95-4898-ac40-c521e5ca39b0",
        "colab": {
          "base_uri": "https://localhost:8080/"
        }
      },
      "execution_count": 28,
      "outputs": [
        {
          "output_type": "stream",
          "name": "stdout",
          "text": [
            "Memory adresses of my_new_list: [10750856, 10750888, 10750920, 10750952, 10750984, 10751016, 10750856, 10751048, 10750920]\n",
            "Comparison:\n",
            "Item 0: Old Addr: 10750856, New Addr: 10750856, Same? True\n",
            "Item 1: Old Addr: 10750888, New Addr: 10750888, Same? True\n",
            "Item 2: Old Addr: 10750920, New Addr: 10750920, Same? True\n",
            "Item 3: Old Addr: 10750952, New Addr: 10750952, Same? True\n",
            "Item 4: Old Addr: 10750952, New Addr: 10750984, Same? False\n",
            "Item 5: Old Addr: 10750984, New Addr: 10751016, Same? False\n",
            "Item 6: Old Addr: 10751016, New Addr: 10750856, Same? False\n",
            "Item 7: Old Addr: 10750856, New Addr: 10751048, Same? False\n",
            "Item 8: Old Addr: 10751048, New Addr: 10750920, Same? False\n"
          ]
        }
      ]
    },
    {
      "cell_type": "markdown",
      "source": [
        "g. Suppose that you have the following list: ```x = [[1, 2, 3], [4, 5, 6], [7, 8, 9]]```. What code could you use to get a copy ```y``` of that list in which you could change the elements without the side effect of changing the contents of ```x```?"
      ],
      "metadata": {
        "id": "BRZq7VPZBYsN"
      }
    },
    {
      "cell_type": "code",
      "source": [
        "x = [[1, 2, 3], [4, 5, 6], [7, 8, 9]]\n",
        "import copy\n",
        "y = copy.deepcopy(x)\n",
        "y[0][0] = 100\n",
        "print(\"Original list x:\", x)\n",
        "print(\"Modified copy:\", y)"
      ],
      "metadata": {
        "id": "5M7ksW8xsC3k",
        "outputId": "a98bde20-74ac-452b-f042-209b4f88c63c",
        "colab": {
          "base_uri": "https://localhost:8080/"
        }
      },
      "execution_count": 30,
      "outputs": [
        {
          "output_type": "stream",
          "name": "stdout",
          "text": [
            "Original list x: [[1, 2, 3], [4, 5, 6], [7, 8, 9]]\n",
            "Modified copy: [[100, 2, 3], [4, 5, 6], [7, 8, 9]]\n"
          ]
        }
      ]
    },
    {
      "cell_type": "markdown",
      "source": [
        "h. Is it possible to use multiple expressions within a list comprehension?"
      ],
      "metadata": {
        "id": "LUIwtfcJBnsq"
      }
    },
    {
      "cell_type": "code",
      "source": [
        "print(True)"
      ],
      "metadata": {
        "id": "7xxHmgPKBoSc",
        "outputId": "6353445e-0580-4d3e-e073-4635852e6e87",
        "colab": {
          "base_uri": "https://localhost:8080/"
        }
      },
      "execution_count": 31,
      "outputs": [
        {
          "output_type": "stream",
          "name": "stdout",
          "text": [
            "True\n"
          ]
        }
      ]
    },
    {
      "cell_type": "markdown",
      "source": [
        "i. Using a list comprehension, count how many spaces are in the following statement.\n",
        "\"To be, or not to be, this is the question\""
      ],
      "metadata": {
        "id": "dV-_5n78BxH4"
      }
    },
    {
      "cell_type": "code",
      "source": [
        "result = [(x, x**2) for x in range(5)]\n",
        "print(result)"
      ],
      "metadata": {
        "id": "1C6WRbQ1I_up",
        "outputId": "df4002b7-8f12-4580-9174-1808b9b368dc",
        "colab": {
          "base_uri": "https://localhost:8080/"
        }
      },
      "execution_count": 32,
      "outputs": [
        {
          "output_type": "stream",
          "name": "stdout",
          "text": [
            "[(0, 0), (1, 1), (2, 4), (3, 9), (4, 16)]\n"
          ]
        }
      ]
    },
    {
      "cell_type": "markdown",
      "source": [
        "j. Choose any 5 lists operations of your choice from the link https://docs.python.org/3/tutorial/datastructures.html\n"
      ],
      "metadata": {
        "id": "QJQ3mnTyIz7c"
      }
    },
    {
      "cell_type": "code",
      "source": [
        "my_list = [10, 20, 30, 40, 50]\n",
        "my_list.append(60)\n",
        "print(\"After append:\", my_list)\n",
        "my_list.insert(2,25)\n",
        "print(\"After insert:\", my_list)\n",
        "my_list.remove(40)\n",
        "print(\"After reverse:\", my_list)\n",
        "my_list.sort()\n",
        "print(\"After sort:\", my_list)"
      ],
      "metadata": {
        "id": "7JcT_W26B0Nu",
        "outputId": "71f64316-ef5a-4644-a7dd-c247e079c93c",
        "colab": {
          "base_uri": "https://localhost:8080/"
        }
      },
      "execution_count": 33,
      "outputs": [
        {
          "output_type": "stream",
          "name": "stdout",
          "text": [
            "After append: [10, 20, 30, 40, 50, 60]\n",
            "After insert: [10, 20, 25, 30, 40, 50, 60]\n",
            "After reverse: [10, 20, 25, 30, 50, 60]\n",
            "After sort: [10, 20, 25, 30, 50, 60]\n"
          ]
        }
      ]
    },
    {
      "cell_type": "markdown",
      "source": [
        "## Challenges\n",
        "\n",
        "Please describe the challenges you faced during the exercise."
      ],
      "metadata": {
        "id": "xQzjxKdvvbyo"
      }
    },
    {
      "cell_type": "markdown",
      "source": [
        "A challenge I faced was knowing to use deep copy instead of shallow copy and another challenge I faced was making sure that list operations does not modify the original list unintentionally."
      ],
      "metadata": {
        "id": "qfJNpTB5EbY4"
      }
    }
  ]
}